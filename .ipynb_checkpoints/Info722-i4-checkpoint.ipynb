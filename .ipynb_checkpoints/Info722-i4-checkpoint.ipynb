{
 "cells": [
  {
   "cell_type": "code",
   "execution_count": 1,
   "id": "891ab0f0",
   "metadata": {},
   "outputs": [
    {
     "name": "stderr",
     "output_type": "stream",
     "text": [
      "WARNING: An illegal reflective access operation has occurred\n",
      "WARNING: Illegal reflective access by org.apache.spark.unsafe.Platform (file:/home/ubuntu/spark-3.2.1-bin-hadoop2.7/jars/spark-unsafe_2.12-3.2.1.jar) to constructor java.nio.DirectByteBuffer(long,int)\n",
      "WARNING: Please consider reporting this to the maintainers of org.apache.spark.unsafe.Platform\n",
      "WARNING: Use --illegal-access=warn to enable warnings of further illegal reflective access operations\n",
      "WARNING: All illegal access operations will be denied in a future release\n",
      "Using Spark's default log4j profile: org/apache/spark/log4j-defaults.properties\n",
      "Setting default log level to \"WARN\".\n",
      "To adjust logging level use sc.setLogLevel(newLevel). For SparkR, use setLogLevel(newLevel).\n",
      "24/05/24 07:47:13 WARN NativeCodeLoader: Unable to load native-hadoop library for your platform... using builtin-java classes where applicable\n"
     ]
    }
   ],
   "source": [
    "# Must be included at the beginning of each new notebook. Remember to change the app name.\n",
    "import findspark\n",
    "findspark.init('/home/ubuntu/spark-3.2.1-bin-hadoop2.7')\n",
    "import pyspark\n",
    "from pyspark.sql import SparkSession\n",
    "spark = SparkSession.builder.appName('basics').getOrCreate()"
   ]
  },
  {
   "cell_type": "code",
   "execution_count": 2,
   "id": "9c31cec7",
   "metadata": {},
   "outputs": [],
   "source": [
    "file = 'states_all.csv'\n",
    "file_e = 'states_all_extended.csv'"
   ]
  },
  {
   "cell_type": "code",
   "execution_count": 3,
   "id": "8c893d82",
   "metadata": {},
   "outputs": [
    {
     "name": "stderr",
     "output_type": "stream",
     "text": [
      "                                                                                \r"
     ]
    }
   ],
   "source": [
    "# Data Understanding\n",
    "\n",
    "df = spark.read.option(\"header\", True).csv(file)\n",
    "df_e = spark.read.option(\"header\", True).csv(file_e)"
   ]
  },
  {
   "cell_type": "code",
   "execution_count": 4,
   "id": "b0aaff63",
   "metadata": {
    "scrolled": true
   },
   "outputs": [
    {
     "name": "stdout",
     "output_type": "stream",
     "text": [
      "+--------------------+--------------------+----+------+-------------+---------------+-------------+-------------+-----------------+-----------------------+----------------------------+-----------------+--------------------------+-----------+-----------+----------+----------+-----------+------------+-------------+------------+----------------+----------------+-------------------+-------------------+\n",
      "|         PRIMARY_KEY|               STATE|YEAR|ENROLL|TOTAL_REVENUE|FEDERAL_REVENUE|STATE_REVENUE|LOCAL_REVENUE|TOTAL_EXPENDITURE|INSTRUCTION_EXPENDITURE|SUPPORT_SERVICES_EXPENDITURE|OTHER_EXPENDITURE|CAPITAL_OUTLAY_EXPENDITURE|GRADES_PK_G|GRADES_KG_G|GRADES_4_G|GRADES_8_G|GRADES_12_G|GRADES_1_8_G|GRADES_9_12_G|GRADES_ALL_G|AVG_MATH_4_SCORE|AVG_MATH_8_SCORE|AVG_READING_4_SCORE|AVG_READING_8_SCORE|\n",
      "+--------------------+--------------------+----+------+-------------+---------------+-------------+-------------+-----------------+-----------------------+----------------------------+-----------------+--------------------------+-----------+-----------+----------+----------+-----------+------------+-------------+------------+----------------+----------------+-------------------+-------------------+\n",
      "|        1992_ALABAMA|             ALABAMA|1992|  null|    2678885.0|       304177.0|    1659028.0|     715680.0|        2653798.0|              1481703.0|                    735036.0|             null|                  174053.0|     8224.0|    55460.0|   57948.0|   58025.0|    41167.0|        null|         null|    731634.0|           208.0|           252.0|              207.0|               null|\n",
      "|         1992_ALASKA|              ALASKA|1992|  null|    1049591.0|       106780.0|     720711.0|     222100.0|         972488.0|               498362.0|                    350902.0|             null|                   37451.0|     2371.0|    10152.0|    9748.0|    8789.0|     6714.0|        null|         null|    122487.0|            null|            null|               null|               null|\n",
      "|        1992_ARIZONA|             ARIZONA|1992|  null|    3258079.0|       297888.0|    1369815.0|    1590376.0|        3401580.0|              1435908.0|                   1007732.0|             null|                  609114.0|     2544.0|    53497.0|   55433.0|   49081.0|    37410.0|        null|         null|    673477.0|           215.0|           265.0|              209.0|               null|\n",
      "|       1992_ARKANSAS|            ARKANSAS|1992|  null|    1711959.0|       178571.0|     958785.0|     574603.0|        1743022.0|               964323.0|                    483488.0|             null|                  145212.0|      808.0|    33511.0|   34632.0|   36011.0|    27651.0|        null|         null|    441490.0|           210.0|           256.0|              211.0|               null|\n",
      "|     1992_CALIFORNIA|          CALIFORNIA|1992|  null|   26260025.0|      2072470.0|   16546514.0|    7641041.0|       27138832.0|             14358922.0|                   8520926.0|             null|                 2044688.0|    59067.0|   431763.0|  418418.0|  363296.0|   270675.0|        null|         null|   5254844.0|           208.0|           261.0|              202.0|               null|\n",
      "|       1992_COLORADO|            COLORADO|1992|  null|    3185173.0|       163253.0|    1307986.0|    1713934.0|        3264826.0|              1642466.0|                   1035970.0|             null|                  364760.0|     7410.0|    47588.0|   50648.0|   45025.0|    34533.0|        null|         null|    612635.0|           221.0|           272.0|              217.0|               null|\n",
      "|    1992_CONNECTICUT|         CONNECTICUT|1992|  null|    3834302.0|       143542.0|    1342539.0|    2348221.0|        3721338.0|              2148041.0|                   1142600.0|             null|                   48542.0|     5731.0|    41319.0|   38058.0|   33691.0|    28366.0|        null|         null|    488476.0|           227.0|           274.0|              222.0|               null|\n",
      "|       1992_DELAWARE|            DELAWARE|1992|  null|     645233.0|        45945.0|     420942.0|     178346.0|         638784.0|               372722.0|                    194915.0|             null|                   30595.0|      463.0|     8025.0|    8272.0|    8012.0|     6129.0|        null|         null|    104321.0|           218.0|           263.0|              213.0|               null|\n",
      "|1992_DISTRICT_OF_...|DISTRICT_OF_COLUMBIA|1992|  null|     709480.0|        64749.0|          0.0|     644731.0|         742893.0|               329160.0|                    316679.0|             null|                   47272.0|     4818.0|     6667.0|    5832.0|    5000.0|     3433.0|        null|         null|     80937.0|           193.0|           235.0|              188.0|               null|\n",
      "|        1992_FLORIDA|             FLORIDA|1992|  null|   11506299.0|       788420.0|    5683949.0|    5033930.0|       11305642.0|              5166374.0|                   3410440.0|             null|                 1667826.0|    31464.0|   161701.0|  164416.0|  142372.0|   100835.0|        null|         null|   1981407.0|           214.0|           260.0|              208.0|               null|\n",
      "|        1992_GEORGIA|             GEORGIA|1992|  null|    5536901.0|       398701.0|    2798674.0|    2339526.0|        5535942.0|              3043984.0|                   1559059.0|             null|                  526644.0|     3303.0|   100745.0|   99648.0|   92374.0|    63646.0|        null|         null|   1207186.0|           216.0|           259.0|              212.0|               null|\n",
      "|         1992_HAWAII|              HAWAII|1992|  null|     996809.0|        71273.0|     903443.0|      22093.0|        1040121.0|               536115.0|                    291376.0|             null|                  126212.0|      525.0|    14440.0|   13754.0|   11750.0|     9051.0|        null|         null|    177448.0|           214.0|           257.0|              203.0|               null|\n",
      "|          1992_IDAHO|               IDAHO|1992|  null|     859329.0|        69138.0|     531912.0|     258279.0|         886161.0|               473505.0|                    246320.0|             null|                  111353.0|     1231.0|    16018.0|   18607.0|   18880.0|    14593.0|        null|         null|    231668.0|           222.0|           275.0|              219.0|               null|\n",
      "|       1992_ILLINOIS|            ILLINOIS|1992|  null|    9748650.0|       597077.0|    3073178.0|    6078395.0|        9850560.0|              5010400.0|                   3148849.0|             null|                  727858.0|    39682.0|   139237.0|  133120.0|  134317.0|   106475.0|        null|         null|   1873567.0|            null|            null|               null|               null|\n",
      "|        1992_INDIANA|             INDIANA|1992|  null|    5060274.0|       257044.0|    2578149.0|    2225081.0|        5182754.0|              2598925.0|                   1478639.0|             null|                  536404.0|     3225.0|    66065.0|   73760.0|   75477.0|    62234.0|        null|         null|    960630.0|           221.0|           270.0|              221.0|               null|\n",
      "|           1992_IOWA|                IOWA|1992|  null|    2663934.0|       125665.0|    1176205.0|    1362064.0|        2795774.0|              1446478.0|                    800570.0|             null|                  222086.0|     4592.0|    36428.0|   37692.0|   36892.0|    33057.0|        null|         null|    494839.0|           230.0|           283.0|              225.0|               null|\n",
      "|         1992_KANSAS|              KANSAS|1992|  null|    2245348.0|       121625.0|     903199.0|    1220524.0|        2234915.0|              1165749.0|                    708572.0|             null|                  157705.0|     2391.0|    34826.0|   36013.0|   33288.0|    26706.0|        null|         null|    451536.0|            null|            null|               null|               null|\n",
      "|       1992_KENTUCKY|            KENTUCKY|1992|  null|    2642902.0|       289902.0|    1643109.0|     709891.0|        2518082.0|              1343438.0|                    817871.0|             null|                  136694.0|    14564.0|    46140.0|   49666.0|   49993.0|    38029.0|        null|         null|    655041.0|           215.0|           262.0|              213.0|               null|\n",
      "|      1992_LOUISIANA|           LOUISIANA|1992|  null|    3341253.0|       367822.0|    1848734.0|    1124697.0|        3362853.0|              1888349.0|                    986486.0|             null|                  135305.0|    11439.0|    61244.0|   61125.0|   55942.0|    38368.0|        null|         null|    797985.0|           204.0|           250.0|              204.0|               null|\n",
      "|          1992_MAINE|               MAINE|1992|  null|    1206819.0|        73160.0|     511654.0|     622005.0|        1228869.0|               685350.0|                    317880.0|             null|                   97128.0|     1273.0|    17367.0|   17154.0|   15969.0|    13882.0|        null|         null|    216453.0|           232.0|           279.0|              227.0|               null|\n",
      "+--------------------+--------------------+----+------+-------------+---------------+-------------+-------------+-----------------+-----------------------+----------------------------+-----------------+--------------------------+-----------+-----------+----------+----------+-----------+------------+-------------+------------+----------------+----------------+-------------------+-------------------+\n",
      "only showing top 20 rows\n",
      "\n"
     ]
    }
   ],
   "source": [
    "df.show()"
   ]
  },
  {
   "cell_type": "code",
   "execution_count": 5,
   "id": "ca4c8d85",
   "metadata": {},
   "outputs": [
    {
     "data": {
      "text/plain": [
       "['PRIMARY_KEY',\n",
       " 'STATE',\n",
       " 'YEAR',\n",
       " 'ENROLL',\n",
       " 'TOTAL_REVENUE',\n",
       " 'FEDERAL_REVENUE',\n",
       " 'STATE_REVENUE',\n",
       " 'LOCAL_REVENUE',\n",
       " 'TOTAL_EXPENDITURE',\n",
       " 'INSTRUCTION_EXPENDITURE',\n",
       " 'SUPPORT_SERVICES_EXPENDITURE',\n",
       " 'OTHER_EXPENDITURE',\n",
       " 'CAPITAL_OUTLAY_EXPENDITURE',\n",
       " 'GRADES_PK_G',\n",
       " 'GRADES_KG_G',\n",
       " 'GRADES_4_G',\n",
       " 'GRADES_8_G',\n",
       " 'GRADES_12_G',\n",
       " 'GRADES_1_8_G',\n",
       " 'GRADES_9_12_G',\n",
       " 'GRADES_ALL_G',\n",
       " 'AVG_MATH_4_SCORE',\n",
       " 'AVG_MATH_8_SCORE',\n",
       " 'AVG_READING_4_SCORE',\n",
       " 'AVG_READING_8_SCORE']"
      ]
     },
     "execution_count": 5,
     "metadata": {},
     "output_type": "execute_result"
    }
   ],
   "source": [
    "df.columns"
   ]
  },
  {
   "cell_type": "code",
   "execution_count": 6,
   "id": "82cd4ff4",
   "metadata": {},
   "outputs": [
    {
     "name": "stdout",
     "output_type": "stream",
     "text": [
      "root\n",
      " |-- PRIMARY_KEY: string (nullable = true)\n",
      " |-- STATE: string (nullable = true)\n",
      " |-- YEAR: string (nullable = true)\n",
      " |-- ENROLL: string (nullable = true)\n",
      " |-- TOTAL_REVENUE: string (nullable = true)\n",
      " |-- FEDERAL_REVENUE: string (nullable = true)\n",
      " |-- STATE_REVENUE: string (nullable = true)\n",
      " |-- LOCAL_REVENUE: string (nullable = true)\n",
      " |-- TOTAL_EXPENDITURE: string (nullable = true)\n",
      " |-- INSTRUCTION_EXPENDITURE: string (nullable = true)\n",
      " |-- SUPPORT_SERVICES_EXPENDITURE: string (nullable = true)\n",
      " |-- OTHER_EXPENDITURE: string (nullable = true)\n",
      " |-- CAPITAL_OUTLAY_EXPENDITURE: string (nullable = true)\n",
      " |-- GRADES_PK_G: string (nullable = true)\n",
      " |-- GRADES_KG_G: string (nullable = true)\n",
      " |-- GRADES_4_G: string (nullable = true)\n",
      " |-- GRADES_8_G: string (nullable = true)\n",
      " |-- GRADES_12_G: string (nullable = true)\n",
      " |-- GRADES_1_8_G: string (nullable = true)\n",
      " |-- GRADES_9_12_G: string (nullable = true)\n",
      " |-- GRADES_ALL_G: string (nullable = true)\n",
      " |-- AVG_MATH_4_SCORE: string (nullable = true)\n",
      " |-- AVG_MATH_8_SCORE: string (nullable = true)\n",
      " |-- AVG_READING_4_SCORE: string (nullable = true)\n",
      " |-- AVG_READING_8_SCORE: string (nullable = true)\n",
      "\n"
     ]
    }
   ],
   "source": [
    "df.printSchema()"
   ]
  },
  {
   "cell_type": "code",
   "execution_count": 7,
   "id": "845bd789",
   "metadata": {
    "scrolled": false
   },
   "outputs": [],
   "source": [
    "from pyspark.sql.types import (StructField,StringType,IntegerType,StructType)\n",
    "\n",
    "# Create a variable with the correct structure.\n",
    "data_schema = [StructField('PRIMARY_KEY',StringType(),True),\n",
    "               StructField('STATE',StringType(),True),\n",
    "               StructField('YEAR',IntegerType(),True),\n",
    "               StructField('ENROLL',StringType(),True),\n",
    "               StructField('TOTAL_REVENUE',IntegerType(),True),\n",
    "               StructField('FEDERAL_REVENUE',IntegerType(),True),\n",
    "               StructField('STATE_REVENUE',IntegerType(),True),\n",
    "               StructField('LOCAL_REVENUE',IntegerType(),True),\n",
    "               StructField('TOTAL_EXPENDITURE',IntegerType(),True),\n",
    "               StructField('INSTRUCTION_EXPENDITURE',IntegerType(),True),\n",
    "               StructField('SUPPORT_SERVICES_EXPENDITURE',IntegerType(),True),\n",
    "               StructField('OTHER_EXPENDITURE',IntegerType(),True),\n",
    "               StructField('CAPITAL_OUTLAY_EXPENDITURE',IntegerType(),True),\n",
    "               StructField('GRADES_PK_G',IntegerType(),True),\n",
    "               StructField('GRADES_KG_G',IntegerType(),True),\n",
    "               StructField('GRADES_4_G',IntegerType(),True),\n",
    "               StructField('GRADES_8_G',IntegerType(),True),\n",
    "               StructField('GRADES_12_G',IntegerType(),True),\n",
    "               StructField('GRADES_1_8_G',IntegerType(),True),\n",
    "               StructField('GRADES_9_12_G',IntegerType(),True),\n",
    "               StructField('GRADES_ALL_G',IntegerType(),True),\n",
    "               StructField('AVG_MATH_4_SCORE',IntegerType(),True),\n",
    "               StructField('AVG_MATH_8_SCORE',IntegerType(),True),\n",
    "               StructField('AVG_READING_4_SCORE',IntegerType(),True),\n",
    "              StructField('AVG_READING_8_SCORE',IntegerType(),True)]\n",
    "\n",
    "\n",
    "final_struct = StructType(fields=data_schema)"
   ]
  },
  {
   "cell_type": "code",
   "execution_count": 8,
   "id": "67e8d19f",
   "metadata": {
    "scrolled": true
   },
   "outputs": [
    {
     "name": "stderr",
     "output_type": "stream",
     "text": [
      "24/05/24 07:47:47 WARN package: Truncated the string representation of a plan since it was too large. This behavior can be adjusted by setting 'spark.sql.debug.maxToStringFields'.\n"
     ]
    },
    {
     "name": "stdout",
     "output_type": "stream",
     "text": [
      "+-------+------------+-------+-----------------+-----------------+--------------------+------------------+-----------------+------------------+--------------------+-----------------------+----------------------------+-----------------+--------------------------+-----------------+-----------------+-----------------+-----------------+------------------+-----------------+------------------+------------------+------------------+------------------+-------------------+-------------------+\n",
      "|summary| PRIMARY_KEY|  STATE|             YEAR|           ENROLL|       TOTAL_REVENUE|   FEDERAL_REVENUE|    STATE_REVENUE|     LOCAL_REVENUE|   TOTAL_EXPENDITURE|INSTRUCTION_EXPENDITURE|SUPPORT_SERVICES_EXPENDITURE|OTHER_EXPENDITURE|CAPITAL_OUTLAY_EXPENDITURE|      GRADES_PK_G|      GRADES_KG_G|       GRADES_4_G|       GRADES_8_G|       GRADES_12_G|     GRADES_1_8_G|     GRADES_9_12_G|      GRADES_ALL_G|  AVG_MATH_4_SCORE|  AVG_MATH_8_SCORE|AVG_READING_4_SCORE|AVG_READING_8_SCORE|\n",
      "+-------+------------+-------+-----------------+-----------------+--------------------+------------------+-----------------+------------------+--------------------+-----------------------+----------------------------+-----------------+--------------------------+-----------------+-----------------+-----------------+-----------------+------------------+-----------------+------------------+------------------+------------------+------------------+-------------------+-------------------+\n",
      "|  count|        1715|   1715|             1715|             1224|                1275|              1275|             1275|              1275|                1275|                   1275|                        1275|             1224|                      1275|             1542|             1632|             1632|             1632|              1632|             1020|              1071|              1632|               565|               602|                650|                562|\n",
      "|   mean|        null|   null|2002.075218658892|917541.5661764706|   9102044.929411765| 767779.8643137255|4223742.902745098|4110522.1560784313|   9206242.121568628|      4768010.484705882|          2682586.5192156862|429950.9338235294|         903467.4549019608|17840.95849546044|68810.96200980392|69166.50796568628|68106.53737745098|58420.870710784315|577954.7176470588|282069.08496732026| 913969.4944852941|236.32743362831857|278.28073089700996| 218.80615384615385| 263.55871886120997|\n",
      "| stddev|        null|   null|9.568621437557608| 1066514.19857442|1.1759620227524102E7|1146991.5073249412|5549734.818393522| 5489561.973466697|1.1992791012445949E7|      6300569.339670264|          3357214.4993502507|534789.3112110305|        1329473.4683338907|30016.60351016418|80671.03300759422|79957.99035604103|77965.84726324878| 67438.53070894495| 675783.663428766|330709.78755460563|1055892.9466687678| 9.285505441808715|10.343481752907065|   7.68180522815778|  6.612601036914624|\n",
      "|    min|1986_ALABAMA|ALABAMA|             1986|        1002696.0|          10022622.0|          100207.0|              0.0|        10014512.0|          10001763.0|              1000023.0|                  10000845.0|         100157.0|                10047331.0|          10012.0|          10006.0|         100361.0|         100052.0|           10019.0|         100646.0|          104650.0|         1001235.0|             192.0|             231.0|              179.0|              236.0|\n",
      "|    max|2019_WYOMING|WYOMING|             2019|         999713.0|            996809.0|         9990221.0|        9987732.0|          997388.0|           9989670.0|              9991819.0|                    998972.0|         996277.0|                   99924.0|           9979.0|           9989.0|          99937.0|           9997.0|            9985.0|         996737.0|           99856.0|           99978.0|             253.0|             301.0|              237.0|              280.0|\n",
      "+-------+------------+-------+-----------------+-----------------+--------------------+------------------+-----------------+------------------+--------------------+-----------------------+----------------------------+-----------------+--------------------------+-----------------+-----------------+-----------------+-----------------+------------------+-----------------+------------------+------------------+------------------+------------------+-------------------+-------------------+\n",
      "\n"
     ]
    }
   ],
   "source": [
    "df.describe().show()"
   ]
  },
  {
   "cell_type": "code",
   "execution_count": 9,
   "id": "e124df56",
   "metadata": {
    "scrolled": true
   },
   "outputs": [
    {
     "data": {
      "text/plain": [
       "[Row(min(STATE_REVENUE)='0.0')]"
      ]
     },
     "execution_count": 9,
     "metadata": {},
     "output_type": "execute_result"
    }
   ],
   "source": [
    "from pyspark.sql.functions import mean\n",
    "from pyspark.sql.functions import min\n",
    "\n",
    "df.select(min(df['STATE_REVENUE'])).collect()"
   ]
  },
  {
   "cell_type": "code",
   "execution_count": 10,
   "id": "e9ff304c",
   "metadata": {},
   "outputs": [],
   "source": [
    "# DP - Construct new features\n",
    "# from pyspark.sql.functions import col\n",
    "# df.withColumn('average_reveneue', df['TOTAL_REVENUE']/df['GRADES_ALL_G']).withColumn('average_expenditure', df['TOTAL_EXPENDITURE']/df['GRADES_ALL_G']).show()\n",
    "df = df.withColumn('average_reveneue', df['TOTAL_REVENUE']/df['GRADES_ALL_G']).withColumn('average_expenditure', df['TOTAL_EXPENDITURE']/df['GRADES_ALL_G'])"
   ]
  },
  {
   "cell_type": "code",
   "execution_count": 11,
   "id": "4cd67824",
   "metadata": {
    "scrolled": true
   },
   "outputs": [
    {
     "name": "stdout",
     "output_type": "stream",
     "text": [
      "+--------------------+--------------------+----+------+-------------+---------------+-------------+-------------+-----------------+-----------------------+----------------------------+-----------------+--------------------------+-----------+-----------+----------+----------+-----------+------------+-------------+------------+----------------+----------------+-------------------+-------------------+------------------+-------------------+\n",
      "|         PRIMARY_KEY|               STATE|YEAR|ENROLL|TOTAL_REVENUE|FEDERAL_REVENUE|STATE_REVENUE|LOCAL_REVENUE|TOTAL_EXPENDITURE|INSTRUCTION_EXPENDITURE|SUPPORT_SERVICES_EXPENDITURE|OTHER_EXPENDITURE|CAPITAL_OUTLAY_EXPENDITURE|GRADES_PK_G|GRADES_KG_G|GRADES_4_G|GRADES_8_G|GRADES_12_G|GRADES_1_8_G|GRADES_9_12_G|GRADES_ALL_G|AVG_MATH_4_SCORE|AVG_MATH_8_SCORE|AVG_READING_4_SCORE|AVG_READING_8_SCORE|  average_reveneue|average_expenditure|\n",
      "+--------------------+--------------------+----+------+-------------+---------------+-------------+-------------+-----------------+-----------------------+----------------------------+-----------------+--------------------------+-----------+-----------+----------+----------+-----------+------------+-------------+------------+----------------+----------------+-------------------+-------------------+------------------+-------------------+\n",
      "|        1992_ALABAMA|             ALABAMA|1992|  null|    2678885.0|       304177.0|    1659028.0|     715680.0|        2653798.0|              1481703.0|                    735036.0|             null|                  174053.0|     8224.0|    55460.0|   57948.0|   58025.0|    41167.0|        null|         null|    731634.0|           208.0|           252.0|              207.0|               null|3.6615097166069375|  3.627220714182228|\n",
      "|         1992_ALASKA|              ALASKA|1992|  null|    1049591.0|       106780.0|     720711.0|     222100.0|         972488.0|               498362.0|                    350902.0|             null|                   37451.0|     2371.0|    10152.0|    9748.0|    8789.0|     6714.0|        null|         null|    122487.0|            null|            null|               null|               null| 8.568999159094435|  7.939520112338452|\n",
      "|        1992_ARIZONA|             ARIZONA|1992|  null|    3258079.0|       297888.0|    1369815.0|    1590376.0|        3401580.0|              1435908.0|                   1007732.0|             null|                  609114.0|     2544.0|    53497.0|   55433.0|   49081.0|    37410.0|        null|         null|    673477.0|           215.0|           265.0|              209.0|               null| 4.837698986008431|  5.050773820041368|\n",
      "|       1992_ARKANSAS|            ARKANSAS|1992|  null|    1711959.0|       178571.0|     958785.0|     574603.0|        1743022.0|               964323.0|                    483488.0|             null|                  145212.0|      808.0|    33511.0|   34632.0|   36011.0|    27651.0|        null|         null|    441490.0|           210.0|           256.0|              211.0|               null| 3.877684658769168| 3.9480441233097014|\n",
      "|     1992_CALIFORNIA|          CALIFORNIA|1992|  null|   26260025.0|      2072470.0|   16546514.0|    7641041.0|       27138832.0|             14358922.0|                   8520926.0|             null|                 2044688.0|    59067.0|   431763.0|  418418.0|  363296.0|   270675.0|        null|         null|   5254844.0|           208.0|           261.0|              202.0|               null| 4.997298682891443| 5.1645361879439236|\n",
      "|       1992_COLORADO|            COLORADO|1992|  null|    3185173.0|       163253.0|    1307986.0|    1713934.0|        3264826.0|              1642466.0|                   1035970.0|             null|                  364760.0|     7410.0|    47588.0|   50648.0|   45025.0|    34533.0|        null|         null|    612635.0|           221.0|           272.0|              217.0|               null|5.1991365168493475|  5.329153574314232|\n",
      "|    1992_CONNECTICUT|         CONNECTICUT|1992|  null|    3834302.0|       143542.0|    1342539.0|    2348221.0|        3721338.0|              2148041.0|                   1142600.0|             null|                   48542.0|     5731.0|    41319.0|   38058.0|   33691.0|    28366.0|        null|         null|    488476.0|           227.0|           274.0|              222.0|               null| 7.849519730754428|   7.61826169555925|\n",
      "|       1992_DELAWARE|            DELAWARE|1992|  null|     645233.0|        45945.0|     420942.0|     178346.0|         638784.0|               372722.0|                    194915.0|             null|                   30595.0|      463.0|     8025.0|    8272.0|    8012.0|     6129.0|        null|         null|    104321.0|           218.0|           263.0|              213.0|               null|6.1850729958493496|  6.123254186597138|\n",
      "|1992_DISTRICT_OF_...|DISTRICT_OF_COLUMBIA|1992|  null|     709480.0|        64749.0|          0.0|     644731.0|         742893.0|               329160.0|                    316679.0|             null|                   47272.0|     4818.0|     6667.0|    5832.0|    5000.0|     3433.0|        null|         null|     80937.0|           193.0|           235.0|              188.0|               null| 8.765830213622941|  9.178657474331887|\n",
      "|        1992_FLORIDA|             FLORIDA|1992|  null|   11506299.0|       788420.0|    5683949.0|    5033930.0|       11305642.0|              5166374.0|                   3410440.0|             null|                 1667826.0|    31464.0|   161701.0|  164416.0|  142372.0|   100835.0|        null|         null|   1981407.0|           214.0|           260.0|              208.0|               null|  5.80713553550583|  5.705865579358506|\n",
      "|        1992_GEORGIA|             GEORGIA|1992|  null|    5536901.0|       398701.0|    2798674.0|    2339526.0|        5535942.0|              3043984.0|                   1559059.0|             null|                  526644.0|     3303.0|   100745.0|   99648.0|   92374.0|    63646.0|        null|         null|   1207186.0|           216.0|           259.0|              212.0|               null| 4.586617969393283|  4.585823559915373|\n",
      "|         1992_HAWAII|              HAWAII|1992|  null|     996809.0|        71273.0|     903443.0|      22093.0|        1040121.0|               536115.0|                    291376.0|             null|                  126212.0|      525.0|    14440.0|   13754.0|   11750.0|     9051.0|        null|         null|    177448.0|           214.0|           257.0|              203.0|               null| 5.617471033767639|  5.861553807312565|\n",
      "|          1992_IDAHO|               IDAHO|1992|  null|     859329.0|        69138.0|     531912.0|     258279.0|         886161.0|               473505.0|                    246320.0|             null|                  111353.0|     1231.0|    16018.0|   18607.0|   18880.0|    14593.0|        null|         null|    231668.0|           222.0|           275.0|              219.0|               null|3.7093124643886943| 3.8251333805273062|\n",
      "|       1992_ILLINOIS|            ILLINOIS|1992|  null|    9748650.0|       597077.0|    3073178.0|    6078395.0|        9850560.0|              5010400.0|                   3148849.0|             null|                  727858.0|    39682.0|   139237.0|  133120.0|  134317.0|   106475.0|        null|         null|   1873567.0|            null|            null|               null|               null|5.2032566756352985|  5.257650246828643|\n",
      "|        1992_INDIANA|             INDIANA|1992|  null|    5060274.0|       257044.0|    2578149.0|    2225081.0|        5182754.0|              2598925.0|                   1478639.0|             null|                  536404.0|     3225.0|    66065.0|   73760.0|   75477.0|    62234.0|        null|         null|    960630.0|           221.0|           270.0|              221.0|               null| 5.267661846912963|  5.395161508593319|\n",
      "|           1992_IOWA|                IOWA|1992|  null|    2663934.0|       125665.0|    1176205.0|    1362064.0|        2795774.0|              1446478.0|                    800570.0|             null|                  222086.0|     4592.0|    36428.0|   37692.0|   36892.0|    33057.0|        null|         null|    494839.0|           230.0|           283.0|              225.0|               null| 5.383435824581328|  5.649865915984795|\n",
      "|         1992_KANSAS|              KANSAS|1992|  null|    2245348.0|       121625.0|     903199.0|    1220524.0|        2234915.0|              1165749.0|                    708572.0|             null|                  157705.0|     2391.0|    34826.0|   36013.0|   33288.0|    26706.0|        null|         null|    451536.0|            null|            null|               null|               null|4.9726887778604585|  4.949583200453563|\n",
      "|       1992_KENTUCKY|            KENTUCKY|1992|  null|    2642902.0|       289902.0|    1643109.0|     709891.0|        2518082.0|              1343438.0|                    817871.0|             null|                  136694.0|    14564.0|    46140.0|   49666.0|   49993.0|    38029.0|        null|         null|    655041.0|           215.0|           262.0|              213.0|               null| 4.034712330983862| 3.8441593732300725|\n",
      "|      1992_LOUISIANA|           LOUISIANA|1992|  null|    3341253.0|       367822.0|    1848734.0|    1124697.0|        3362853.0|              1888349.0|                    986486.0|             null|                  135305.0|    11439.0|    61244.0|   61125.0|   55942.0|    38368.0|        null|         null|    797985.0|           204.0|           250.0|              204.0|               null| 4.187112539709393|  4.214180717682663|\n",
      "|          1992_MAINE|               MAINE|1992|  null|    1206819.0|        73160.0|     511654.0|     622005.0|        1228869.0|               685350.0|                    317880.0|             null|                   97128.0|     1273.0|    17367.0|   17154.0|   15969.0|    13882.0|        null|         null|    216453.0|           232.0|           279.0|              227.0|               null| 5.575432079943452|  5.677301769899239|\n",
      "+--------------------+--------------------+----+------+-------------+---------------+-------------+-------------+-----------------+-----------------------+----------------------------+-----------------+--------------------------+-----------+-----------+----------+----------+-----------+------------+-------------+------------+----------------+----------------+-------------------+-------------------+------------------+-------------------+\n",
      "only showing top 20 rows\n",
      "\n"
     ]
    }
   ],
   "source": [
    "df.show()"
   ]
  },
  {
   "cell_type": "code",
   "execution_count": 12,
   "id": "1fcb8260",
   "metadata": {},
   "outputs": [],
   "source": [
    "# Data Integration\n",
    "df_all = df.join(df_e, [\"PRIMARY_KEY\", \"YEAR\", \"STATE\", \"ENROLL\", \"TOTAL_REVENUE\", \"FEDERAL_REVENUE\", \"STATE_REVENUE\", \"LOCAL_REVENUE\", \n",
    "                        \"TOTAL_EXPENDITURE\", \"INSTRUCTION_EXPENDITURE\", \"SUPPORT_SERVICES_EXPENDITURE\", \"OTHER_EXPENDITURE\", \n",
    "                        \"CAPITAL_OUTLAY_EXPENDITURE\"])"
   ]
  },
  {
   "cell_type": "code",
   "execution_count": 13,
   "id": "f49d2dbe",
   "metadata": {
    "scrolled": true
   },
   "outputs": [
    {
     "name": "stderr",
     "output_type": "stream",
     "text": [
      "\r",
      "[Stage 11:>                                                         (0 + 1) / 1]\r",
      "\r",
      "                                                                                \r"
     ]
    },
    {
     "name": "stdout",
     "output_type": "stream",
     "text": [
      "+--------------------+----+--------------------+---------+-------------+---------------+-------------+-------------+-----------------+-----------------------+----------------------------+-----------------+--------------------------+-----------+-----------+----------+----------+-----------+------------+-------------+------------+----------------+----------------+-------------------+-------------------+------------------+-------------------+---------+--------+--------+--------+--------+--------+--------+--------+--------+--------+--------+--------+--------+--------+-------+-----------+-----------+--------+--------+--------+--------+--------+--------+--------+--------+--------+--------+--------+--------+--------+--------+--------+--------+--------+--------+--------+--------+--------+--------+--------+--------+--------+--------+--------+--------+--------+--------+--------+--------+--------+--------+--------+--------+--------+--------+--------+--------+--------+--------+--------+--------+--------+--------+--------+--------+--------+--------+--------+--------+--------+--------+--------+--------+--------+--------+--------+--------+--------+--------+--------+--------+--------+--------+--------+--------+--------+--------+--------+--------+--------+--------+--------+--------+--------+--------+--------+--------+--------+--------+--------+--------+--------+--------+--------+--------+--------+--------+--------+--------+--------+--------+--------+--------+--------+--------+--------+--------+--------+--------+--------+--------+--------+--------+--------+--------+--------+--------+--------+--------+--------+--------+--------+--------+--------+--------+--------+--------+--------+--------+--------+--------+--------+--------+--------+--------+--------+--------+--------+--------+--------+--------+--------+--------+--------+--------+--------+--------+--------+--------+--------+--------+--------+--------+--------+--------+--------+--------+--------+--------+--------+--------+--------+--------+--------+--------+--------+--------+--------+--------+--------+--------+--------+--------+--------+--------+-------+-------+-------+-------+-------+-------+-------+-------+-------+-------+-------+-------+-------+-------+-------+-------+-------+-------+-------+-------+-------+-------+-------+-------+-------+-------+-------+-------+---------------+-------------------+---------------+-------------------+---------------+-------------------+----------------+--------------------+----------------+--------------------+----------------+--------------------+----------------+--------------------+----------------+--------------------+----------------+--------------------+----------------+--------------------+---------------+-------------------+---------------+-------------------+---------------+-------------------+----------------+--------------------+----------------+--------------------+----------------+--------------------+----------------+--------------------+----------------+--------------------+----------------+--------------------+----------------+--------------------+\n",
      "|         PRIMARY_KEY|YEAR|               STATE|   ENROLL|TOTAL_REVENUE|FEDERAL_REVENUE|STATE_REVENUE|LOCAL_REVENUE|TOTAL_EXPENDITURE|INSTRUCTION_EXPENDITURE|SUPPORT_SERVICES_EXPENDITURE|OTHER_EXPENDITURE|CAPITAL_OUTLAY_EXPENDITURE|GRADES_PK_G|GRADES_KG_G|GRADES_4_G|GRADES_8_G|GRADES_12_G|GRADES_1_8_G|GRADES_9_12_G|GRADES_ALL_G|AVG_MATH_4_SCORE|AVG_MATH_8_SCORE|AVG_READING_4_SCORE|AVG_READING_8_SCORE|  average_reveneue|average_expenditure|    A_A_A| G01_A_A| G02_A_A| G03_A_A| G04_A_A| G05_A_A| G06_A_A| G07_A_A| G08_A_A| G09_A_A| G10_A_A| G11_A_A| G12_A_A|  KG_A_A| PK_A_A|G01-G08_A_A|G09-G12_A_A|G01_AM_F|G01_AM_M|G01_AS_F|G01_AS_M|G01_BL_F|G01_BL_M|G01_HI_F|G01_HI_M|G01_HP_F|G01_HP_M|G01_TR_F|G01_TR_M|G01_WH_F|G01_WH_M|G02_AM_F|G02_AM_M|G02_AS_F|G02_AS_M|G02_BL_F|G02_BL_M|G02_HI_F|G02_HI_M|G02_HP_F|G02_HP_M|G02_TR_F|G02_TR_M|G02_WH_F|G02_WH_M|G03_AM_F|G03_AM_M|G03_AS_F|G03_AS_M|G03_BL_F|G03_BL_M|G03_HI_F|G03_HI_M|G03_HP_F|G03_HP_M|G03_TR_F|G03_TR_M|G03_WH_F|G03_WH_M|G04_AM_F|G04_AM_M|G04_AS_F|G04_AS_M|G04_BL_F|G04_BL_M|G04_HI_F|G04_HI_M|G04_HP_F|G04_HP_M|G04_TR_F|G04_TR_M|G04_WH_F|G04_WH_M|G05_AM_F|G05_AM_M|G05_AS_F|G05_AS_M|G05_BL_F|G05_BL_M|G05_HI_F|G05_HI_M|G05_HP_F|G05_HP_M|G05_TR_F|G05_TR_M|G05_WH_F|G05_WH_M|G06_AM_F|G06_AM_M|G06_AS_F|G06_AS_M|G06_BL_F|G06_BL_M|G06_HI_F|G06_HI_M|G06_HP_F|G06_HP_M|G06_TR_F|G06_TR_M|G06_WH_F|G06_WH_M|G07_AM_F|G07_AM_M|G07_AS_F|G07_AS_M|G07_BL_F|G07_BL_M|G07_HI_F|G07_HI_M|G07_HP_F|G07_HP_M|G07_TR_F|G07_TR_M|G07_WH_F|G07_WH_M|G08_AM_F|G08_AM_M|G08_AS_F|G08_AS_M|G08_BL_F|G08_BL_M|G08_HI_F|G08_HI_M|G08_HP_F|G08_HP_M|G08_TR_F|G08_TR_M|G08_WH_F|G08_WH_M|G09_AM_F|G09_AM_M|G09_AS_F|G09_AS_M|G09_BL_F|G09_BL_M|G09_HI_F|G09_HI_M|G09_HP_F|G09_HP_M|G09_TR_F|G09_TR_M|G09_WH_F|G09_WH_M|G10_AM_F|G10_AM_M|G10_AS_F|G10_AS_M|G10_BL_F|G10_BL_M|G10_HI_F|G10_HI_M|G10_HP_F|G10_HP_M|G10_TR_F|G10_TR_M|G10_WH_F|G10_WH_M|G11_AM_F|G11_AM_M|G11_AS_F|G11_AS_M|G11_BL_F|G11_BL_M|G11_HI_F|G11_HI_M|G11_HP_F|G11_HP_M|G11_TR_F|G11_TR_M|G11_WH_F|G11_WH_M|G12_AM_F|G12_AM_M|G12_AS_F|G12_AS_M|G12_BL_F|G12_BL_M|G12_HI_F|G12_HI_M|G12_HP_F|G12_HP_M|G12_TR_F|G12_TR_M|G12_WH_F|G12_WH_M|KG_AM_F|KG_AM_M|KG_AS_F|KG_AS_M|KG_BL_F|KG_BL_M|KG_HI_F|KG_HI_M|KG_HP_F|KG_HP_M|KG_TR_F|KG_TR_M|KG_WH_F|KG_WH_M|PK_AM_F|PK_AM_M|PK_AS_F|PK_AS_M|PK_BL_F|PK_BL_M|PK_HI_F|PK_HI_M|PK_HP_F|PK_HP_M|PK_TR_F|PK_TR_M|PK_WH_F|PK_WH_M|G04_A_A_READING|G04_A_A_MATHEMATICS|G04_A_M_READING|G04_A_M_MATHEMATICS|G04_A_F_READING|G04_A_F_MATHEMATICS|G04_WH_A_READING|G04_WH_A_MATHEMATICS|G04_BL_A_READING|G04_BL_A_MATHEMATICS|G04_HI_A_READING|G04_HI_A_MATHEMATICS|G04_AS_A_READING|G04_AS_A_MATHEMATICS|G04_AM_A_READING|G04_AM_A_MATHEMATICS|G04_HP_A_READING|G04_HP_A_MATHEMATICS|G04_TR_A_READING|G04_TR_A_MATHEMATICS|G08_A_A_READING|G08_A_A_MATHEMATICS|G08_A_M_READING|G08_A_M_MATHEMATICS|G08_A_F_READING|G08_A_F_MATHEMATICS|G08_WH_A_READING|G08_WH_A_MATHEMATICS|G08_BL_A_READING|G08_BL_A_MATHEMATICS|G08_HI_A_READING|G08_HI_A_MATHEMATICS|G08_AS_A_READING|G08_AS_A_MATHEMATICS|G08_AM_A_READING|G08_AM_A_MATHEMATICS|G08_HP_A_READING|G08_HP_A_MATHEMATICS|G08_TR_A_READING|G08_TR_A_MATHEMATICS|\n",
      "+--------------------+----+--------------------+---------+-------------+---------------+-------------+-------------+-----------------+-----------------------+----------------------------+-----------------+--------------------------+-----------+-----------+----------+----------+-----------+------------+-------------+------------+----------------+----------------+-------------------+-------------------+------------------+-------------------+---------+--------+--------+--------+--------+--------+--------+--------+--------+--------+--------+--------+--------+--------+-------+-----------+-----------+--------+--------+--------+--------+--------+--------+--------+--------+--------+--------+--------+--------+--------+--------+--------+--------+--------+--------+--------+--------+--------+--------+--------+--------+--------+--------+--------+--------+--------+--------+--------+--------+--------+--------+--------+--------+--------+--------+--------+--------+--------+--------+--------+--------+--------+--------+--------+--------+--------+--------+--------+--------+--------+--------+--------+--------+--------+--------+--------+--------+--------+--------+--------+--------+--------+--------+--------+--------+--------+--------+--------+--------+--------+--------+--------+--------+--------+--------+--------+--------+--------+--------+--------+--------+--------+--------+--------+--------+--------+--------+--------+--------+--------+--------+--------+--------+--------+--------+--------+--------+--------+--------+--------+--------+--------+--------+--------+--------+--------+--------+--------+--------+--------+--------+--------+--------+--------+--------+--------+--------+--------+--------+--------+--------+--------+--------+--------+--------+--------+--------+--------+--------+--------+--------+--------+--------+--------+--------+--------+--------+--------+--------+--------+--------+--------+--------+--------+--------+--------+--------+--------+--------+--------+--------+--------+--------+--------+--------+--------+--------+--------+--------+--------+--------+--------+--------+--------+--------+-------+-------+-------+-------+-------+-------+-------+-------+-------+-------+-------+-------+-------+-------+-------+-------+-------+-------+-------+-------+-------+-------+-------+-------+-------+-------+-------+-------+---------------+-------------------+---------------+-------------------+---------------+-------------------+----------------+--------------------+----------------+--------------------+----------------+--------------------+----------------+--------------------+----------------+--------------------+----------------+--------------------+----------------+--------------------+---------------+-------------------+---------------+-------------------+---------------+-------------------+----------------+--------------------+----------------+--------------------+----------------+--------------------+----------------+--------------------+----------------+--------------------+----------------+--------------------+----------------+--------------------+\n",
      "|        1993_ALABAMA|1993|             ALABAMA| 727716.0|    2827391.0|       331409.0|    1729295.0|     766687.0|        2833433.0|              1564558.0|                    794146.0|         237222.0|                  204207.0|     8264.0|    56598.0|   57497.0|   60004.0|    39900.0|        null|         null|    734288.0|            null|            null|               null|               null| 3.850520504216329| 3.8587488832719585| 734288.0| 59239.0| 55781.0| 58612.0| 57497.0| 58098.0| 59400.0| 62144.0| 60004.0| 62141.0| 50543.0| 46067.0| 39900.0| 56598.0| 8264.0|       null|       null|    null|    null|    null|    null|    null|    null|    null|    null|    null|    null|    null|    null|    null|    null|    null|    null|    null|    null|    null|    null|    null|    null|    null|    null|    null|    null|    null|    null|    null|    null|    null|    null|    null|    null|    null|    null|    null|    null|    null|    null|    null|    null|    null|    null|    null|    null|    null|    null|    null|    null|    null|    null|    null|    null|    null|    null|    null|    null|    null|    null|    null|    null|    null|    null|    null|    null|    null|    null|    null|    null|    null|    null|    null|    null|    null|    null|    null|    null|    null|    null|    null|    null|    null|    null|    null|    null|    null|    null|    null|    null|    null|    null|    null|    null|    null|    null|    null|    null|    null|    null|    null|    null|    null|    null|    null|    null|    null|    null|    null|    null|    null|    null|    null|    null|    null|    null|    null|    null|    null|    null|    null|    null|    null|    null|    null|    null|    null|    null|    null|    null|    null|    null|    null|    null|    null|    null|    null|    null|    null|    null|    null|    null|    null|    null|    null|    null|    null|    null|    null|    null|    null|    null|    null|    null|    null|    null|    null|    null|    null|    null|    null|    null|    null|    null|    null|    null|    null|    null|   null|   null|   null|   null|   null|   null|   null|   null|   null|   null|   null|   null|   null|   null|   null|   null|   null|   null|   null|   null|   null|   null|   null|   null|   null|   null|   null|   null|           null|               null|           null|               null|           null|               null|            null|                null|            null|                null|            null|                null|            null|                null|            null|                null|            null|                null|            null|                null|           null|               null|           null|               null|           null|               null|            null|                null|            null|                null|            null|                null|            null|                null|            null|                null|            null|                null|            null|                null|\n",
      "|         1993_ALASKA|1993|              ALASKA| 121156.0|    1191398.0|       176150.0|     775829.0|     239419.0|        1126398.0|               494917.0|                    433788.0|          36291.0|                  135791.0|     2787.0|    10329.0|   10156.0|    9160.0|     6975.0|        null|         null|    125948.0|            null|            null|               null|               null| 9.459443579890113|  8.943357576142535| 125948.0| 10663.0| 10549.0| 10479.0| 10156.0|  9809.0|  9817.0|  9852.0|  9160.0|  9608.0|  8514.0|  7250.0|  6975.0| 10329.0| 2787.0|       null|       null|    null|    null|    null|    null|    null|    null|    null|    null|    null|    null|    null|    null|    null|    null|    null|    null|    null|    null|    null|    null|    null|    null|    null|    null|    null|    null|    null|    null|    null|    null|    null|    null|    null|    null|    null|    null|    null|    null|    null|    null|    null|    null|    null|    null|    null|    null|    null|    null|    null|    null|    null|    null|    null|    null|    null|    null|    null|    null|    null|    null|    null|    null|    null|    null|    null|    null|    null|    null|    null|    null|    null|    null|    null|    null|    null|    null|    null|    null|    null|    null|    null|    null|    null|    null|    null|    null|    null|    null|    null|    null|    null|    null|    null|    null|    null|    null|    null|    null|    null|    null|    null|    null|    null|    null|    null|    null|    null|    null|    null|    null|    null|    null|    null|    null|    null|    null|    null|    null|    null|    null|    null|    null|    null|    null|    null|    null|    null|    null|    null|    null|    null|    null|    null|    null|    null|    null|    null|    null|    null|    null|    null|    null|    null|    null|    null|    null|    null|    null|    null|    null|    null|    null|    null|    null|    null|    null|    null|    null|    null|    null|    null|    null|    null|    null|    null|    null|    null|    null|   null|   null|   null|   null|   null|   null|   null|   null|   null|   null|   null|   null|   null|   null|   null|   null|   null|   null|   null|   null|   null|   null|   null|   null|   null|   null|   null|   null|           null|               null|           null|               null|           null|               null|            null|                null|            null|                null|            null|                null|            null|                null|            null|                null|            null|                null|            null|                null|           null|               null|           null|               null|           null|               null|            null|                null|            null|                null|            null|                null|            null|                null|            null|                null|            null|                null|            null|                null|\n",
      "|        1993_ARIZONA|1993|             ARIZONA| 676297.0|    3427976.0|       318465.0|    1415407.0|    1694104.0|        3623946.0|              1578889.0|                   1000914.0|         164083.0|                  680139.0|     3164.0|    57656.0|   57701.0|   53500.0|    37614.0|        null|         null|    709453.0|            null|            null|               null|               null| 4.831857783390866|  5.108084679323366| 709453.0| 60628.0| 59285.0| 59098.0| 57701.0| 58110.0| 57242.0| 55834.0| 53500.0| 54878.0| 48281.0| 41964.0| 37614.0| 57656.0| 3164.0|       null|       null|    null|    null|    null|    null|    null|    null|    null|    null|    null|    null|    null|    null|    null|    null|    null|    null|    null|    null|    null|    null|    null|    null|    null|    null|    null|    null|    null|    null|    null|    null|    null|    null|    null|    null|    null|    null|    null|    null|    null|    null|    null|    null|    null|    null|    null|    null|    null|    null|    null|    null|    null|    null|    null|    null|    null|    null|    null|    null|    null|    null|    null|    null|    null|    null|    null|    null|    null|    null|    null|    null|    null|    null|    null|    null|    null|    null|    null|    null|    null|    null|    null|    null|    null|    null|    null|    null|    null|    null|    null|    null|    null|    null|    null|    null|    null|    null|    null|    null|    null|    null|    null|    null|    null|    null|    null|    null|    null|    null|    null|    null|    null|    null|    null|    null|    null|    null|    null|    null|    null|    null|    null|    null|    null|    null|    null|    null|    null|    null|    null|    null|    null|    null|    null|    null|    null|    null|    null|    null|    null|    null|    null|    null|    null|    null|    null|    null|    null|    null|    null|    null|    null|    null|    null|    null|    null|    null|    null|    null|    null|    null|    null|    null|    null|    null|    null|    null|    null|    null|   null|   null|   null|   null|   null|   null|   null|   null|   null|   null|   null|   null|   null|   null|   null|   null|   null|   null|   null|   null|   null|   null|   null|   null|   null|   null|   null|   null|           null|               null|           null|               null|           null|               null|            null|                null|            null|                null|            null|                null|            null|                null|            null|                null|            null|                null|            null|                null|           null|               null|           null|               null|           null|               null|            null|                null|            null|                null|            null|                null|            null|                null|            null|                null|            null|                null|            null|                null|\n",
      "|       1993_ARKANSAS|1993|            ARKANSAS| 311432.0|    1346909.0|       128196.0|     771079.0|     447634.0|        1376067.0|               782791.0|                    386526.0|          68617.0|                   97824.0|     1248.0|    34337.0|   34255.0|   36471.0|    27169.0|        null|         null|    444271.0|            null|            null|               null|               null| 3.031728382001076| 3.0973594945427454| 444271.0| 34586.0| 33737.0| 34398.0| 34255.0| 34834.0| 35107.0| 36892.0| 36471.0| 36045.0| 32711.0| 29876.0| 27169.0| 34337.0| 1248.0|       null|       null|    null|    null|    null|    null|    null|    null|    null|    null|    null|    null|    null|    null|    null|    null|    null|    null|    null|    null|    null|    null|    null|    null|    null|    null|    null|    null|    null|    null|    null|    null|    null|    null|    null|    null|    null|    null|    null|    null|    null|    null|    null|    null|    null|    null|    null|    null|    null|    null|    null|    null|    null|    null|    null|    null|    null|    null|    null|    null|    null|    null|    null|    null|    null|    null|    null|    null|    null|    null|    null|    null|    null|    null|    null|    null|    null|    null|    null|    null|    null|    null|    null|    null|    null|    null|    null|    null|    null|    null|    null|    null|    null|    null|    null|    null|    null|    null|    null|    null|    null|    null|    null|    null|    null|    null|    null|    null|    null|    null|    null|    null|    null|    null|    null|    null|    null|    null|    null|    null|    null|    null|    null|    null|    null|    null|    null|    null|    null|    null|    null|    null|    null|    null|    null|    null|    null|    null|    null|    null|    null|    null|    null|    null|    null|    null|    null|    null|    null|    null|    null|    null|    null|    null|    null|    null|    null|    null|    null|    null|    null|    null|    null|    null|    null|    null|    null|    null|    null|    null|   null|   null|   null|   null|   null|   null|   null|   null|   null|   null|   null|   null|   null|   null|   null|   null|   null|   null|   null|   null|   null|   null|   null|   null|   null|   null|   null|   null|           null|               null|           null|               null|           null|               null|            null|                null|            null|                null|            null|                null|            null|                null|            null|                null|            null|                null|            null|                null|           null|               null|           null|               null|           null|               null|            null|                null|            null|                null|            null|                null|            null|                null|            null|                null|            null|                null|            null|                null|\n",
      "|     1993_CALIFORNIA|1993|          CALIFORNIA|5129788.0|   28043338.0|      2151157.0|   17064146.0|    8828035.0|       28110986.0|             15281147.0|                   8914559.0|        1608514.0|                 1944760.0|    59954.0|   444104.0|  420233.0|  380223.0|   277271.0|        null|         null|   5327231.0|            null|            null|               null|               null| 5.264149048539476|  5.276847578038197|5327231.0|444346.0|435329.0|431107.0|420233.0|413420.0|405416.0|398553.0|380223.0|406551.0|375992.0|333716.0|277271.0|444104.0|59954.0|       null|       null|    null|    null|    null|    null|    null|    null|    null|    null|    null|    null|    null|    null|    null|    null|    null|    null|    null|    null|    null|    null|    null|    null|    null|    null|    null|    null|    null|    null|    null|    null|    null|    null|    null|    null|    null|    null|    null|    null|    null|    null|    null|    null|    null|    null|    null|    null|    null|    null|    null|    null|    null|    null|    null|    null|    null|    null|    null|    null|    null|    null|    null|    null|    null|    null|    null|    null|    null|    null|    null|    null|    null|    null|    null|    null|    null|    null|    null|    null|    null|    null|    null|    null|    null|    null|    null|    null|    null|    null|    null|    null|    null|    null|    null|    null|    null|    null|    null|    null|    null|    null|    null|    null|    null|    null|    null|    null|    null|    null|    null|    null|    null|    null|    null|    null|    null|    null|    null|    null|    null|    null|    null|    null|    null|    null|    null|    null|    null|    null|    null|    null|    null|    null|    null|    null|    null|    null|    null|    null|    null|    null|    null|    null|    null|    null|    null|    null|    null|    null|    null|    null|    null|    null|    null|    null|    null|    null|    null|    null|    null|    null|    null|    null|    null|    null|    null|    null|    null|    null|   null|   null|   null|   null|   null|   null|   null|   null|   null|   null|   null|   null|   null|   null|   null|   null|   null|   null|   null|   null|   null|   null|   null|   null|   null|   null|   null|   null|           null|               null|           null|               null|           null|               null|            null|                null|            null|                null|            null|                null|            null|                null|            null|                null|            null|                null|            null|                null|           null|               null|           null|               null|           null|               null|            null|                null|            null|                null|            null|                null|            null|                null|            null|                null|            null|                null|            null|                null|\n",
      "|       1993_COLORADO|1993|            COLORADO| 539538.0|    3058326.0|       147793.0|    1242337.0|    1668196.0|        3028305.0|              1537714.0|                    954032.0|          92163.0|                  318959.0|     7249.0|    47598.0|   50807.0|   47665.0|    34770.0|        null|         null|    625062.0|            null|            null|               null|               null|  4.89283623064592|  4.844807395106406| 625062.0| 51410.0| 51673.0| 51222.0| 50807.0| 51307.0| 50619.0| 49168.0| 47665.0| 47344.0| 42536.0| 39610.0| 34770.0| 47598.0| 7249.0|       null|       null|    null|    null|    null|    null|    null|    null|    null|    null|    null|    null|    null|    null|    null|    null|    null|    null|    null|    null|    null|    null|    null|    null|    null|    null|    null|    null|    null|    null|    null|    null|    null|    null|    null|    null|    null|    null|    null|    null|    null|    null|    null|    null|    null|    null|    null|    null|    null|    null|    null|    null|    null|    null|    null|    null|    null|    null|    null|    null|    null|    null|    null|    null|    null|    null|    null|    null|    null|    null|    null|    null|    null|    null|    null|    null|    null|    null|    null|    null|    null|    null|    null|    null|    null|    null|    null|    null|    null|    null|    null|    null|    null|    null|    null|    null|    null|    null|    null|    null|    null|    null|    null|    null|    null|    null|    null|    null|    null|    null|    null|    null|    null|    null|    null|    null|    null|    null|    null|    null|    null|    null|    null|    null|    null|    null|    null|    null|    null|    null|    null|    null|    null|    null|    null|    null|    null|    null|    null|    null|    null|    null|    null|    null|    null|    null|    null|    null|    null|    null|    null|    null|    null|    null|    null|    null|    null|    null|    null|    null|    null|    null|    null|    null|    null|    null|    null|    null|    null|    null|   null|   null|   null|   null|   null|   null|   null|   null|   null|   null|   null|   null|   null|   null|   null|   null|   null|   null|   null|   null|   null|   null|   null|   null|   null|   null|   null|   null|           null|               null|           null|               null|           null|               null|            null|                null|            null|                null|            null|                null|            null|                null|            null|                null|            null|                null|            null|                null|           null|               null|           null|               null|           null|               null|            null|                null|            null|                null|            null|                null|            null|                null|            null|                null|            null|                null|            null|                null|\n",
      "|    1993_CONNECTICUT|1993|         CONNECTICUT| 471918.0|    4064158.0|       149204.0|    1433539.0|    2481415.0|        4079943.0|              2302852.0|                   1190914.0|         143312.0|                  186802.0|     6216.0|    42338.0|   39093.0|   34662.0|    27979.0|        null|         null|    496298.0|            null|            null|               null|               null| 8.188946963316395|  8.220752451148302| 496298.0| 43961.0| 41289.0| 40244.0| 39093.0| 37639.0| 37007.0| 36127.0| 34662.0| 36481.0| 32802.0| 30393.0| 27979.0| 42338.0| 6216.0|       null|       null|    null|    null|    null|    null|    null|    null|    null|    null|    null|    null|    null|    null|    null|    null|    null|    null|    null|    null|    null|    null|    null|    null|    null|    null|    null|    null|    null|    null|    null|    null|    null|    null|    null|    null|    null|    null|    null|    null|    null|    null|    null|    null|    null|    null|    null|    null|    null|    null|    null|    null|    null|    null|    null|    null|    null|    null|    null|    null|    null|    null|    null|    null|    null|    null|    null|    null|    null|    null|    null|    null|    null|    null|    null|    null|    null|    null|    null|    null|    null|    null|    null|    null|    null|    null|    null|    null|    null|    null|    null|    null|    null|    null|    null|    null|    null|    null|    null|    null|    null|    null|    null|    null|    null|    null|    null|    null|    null|    null|    null|    null|    null|    null|    null|    null|    null|    null|    null|    null|    null|    null|    null|    null|    null|    null|    null|    null|    null|    null|    null|    null|    null|    null|    null|    null|    null|    null|    null|    null|    null|    null|    null|    null|    null|    null|    null|    null|    null|    null|    null|    null|    null|    null|    null|    null|    null|    null|    null|    null|    null|    null|    null|    null|    null|    null|    null|    null|    null|    null|   null|   null|   null|   null|   null|   null|   null|   null|   null|   null|   null|   null|   null|   null|   null|   null|   null|   null|   null|   null|   null|   null|   null|   null|   null|   null|   null|   null|           null|               null|           null|               null|           null|               null|            null|                null|            null|                null|            null|                null|            null|                null|            null|                null|            null|                null|            null|                null|           null|               null|           null|               null|           null|               null|            null|                null|            null|                null|            null|                null|            null|                null|            null|                null|            null|                null|            null|                null|\n",
      "|       1993_DELAWARE|1993|            DELAWARE| 104355.0|     683954.0|        44497.0|     443250.0|     196207.0|         694534.0|               394680.0|                    207850.0|          26548.0|                   47372.0|      565.0|     8153.0|    8285.0|    8265.0|     5882.0|        null|         null|    105547.0|            null|            null|               null|               null|   6.4800894388282| 6.5803291424673365| 105547.0|  8816.0|  8703.0|  8455.0|  8285.0|  8335.0|  8302.0|  8738.0|  8265.0|  8930.0|  7867.0|  6251.0|  5882.0|  8153.0|  565.0|       null|       null|    null|    null|    null|    null|    null|    null|    null|    null|    null|    null|    null|    null|    null|    null|    null|    null|    null|    null|    null|    null|    null|    null|    null|    null|    null|    null|    null|    null|    null|    null|    null|    null|    null|    null|    null|    null|    null|    null|    null|    null|    null|    null|    null|    null|    null|    null|    null|    null|    null|    null|    null|    null|    null|    null|    null|    null|    null|    null|    null|    null|    null|    null|    null|    null|    null|    null|    null|    null|    null|    null|    null|    null|    null|    null|    null|    null|    null|    null|    null|    null|    null|    null|    null|    null|    null|    null|    null|    null|    null|    null|    null|    null|    null|    null|    null|    null|    null|    null|    null|    null|    null|    null|    null|    null|    null|    null|    null|    null|    null|    null|    null|    null|    null|    null|    null|    null|    null|    null|    null|    null|    null|    null|    null|    null|    null|    null|    null|    null|    null|    null|    null|    null|    null|    null|    null|    null|    null|    null|    null|    null|    null|    null|    null|    null|    null|    null|    null|    null|    null|    null|    null|    null|    null|    null|    null|    null|    null|    null|    null|    null|    null|    null|    null|    null|    null|    null|    null|    null|   null|   null|   null|   null|   null|   null|   null|   null|   null|   null|   null|   null|   null|   null|   null|   null|   null|   null|   null|   null|   null|   null|   null|   null|   null|   null|   null|   null|           null|               null|           null|               null|           null|               null|            null|                null|            null|                null|            null|                null|            null|                null|            null|                null|            null|                null|            null|                null|           null|               null|           null|               null|           null|               null|            null|                null|            null|                null|            null|                null|            null|                null|            null|                null|            null|                null|            null|                null|\n",
      "|1993_DISTRICT_OF_...|1993|DISTRICT_OF_COLUMBIA|  80937.0|     721151.0|        73882.0|          0.0|     647269.0|         719440.0|               339266.0|                    302281.0|          39819.0|                   38074.0|     5216.0|     6986.0|    5870.0|    4935.0|     3303.0|        null|         null|     80678.0|            null|            null|               null|               null| 8.938632588809837|  8.917424824611418|  80678.0|  7195.0|  6728.0|  6149.0|  5870.0|  5435.0|  5211.0|  5394.0|  4935.0|  5003.0|  5403.0|  4145.0|  3303.0|  6986.0| 5216.0|       null|       null|    null|    null|    null|    null|    null|    null|    null|    null|    null|    null|    null|    null|    null|    null|    null|    null|    null|    null|    null|    null|    null|    null|    null|    null|    null|    null|    null|    null|    null|    null|    null|    null|    null|    null|    null|    null|    null|    null|    null|    null|    null|    null|    null|    null|    null|    null|    null|    null|    null|    null|    null|    null|    null|    null|    null|    null|    null|    null|    null|    null|    null|    null|    null|    null|    null|    null|    null|    null|    null|    null|    null|    null|    null|    null|    null|    null|    null|    null|    null|    null|    null|    null|    null|    null|    null|    null|    null|    null|    null|    null|    null|    null|    null|    null|    null|    null|    null|    null|    null|    null|    null|    null|    null|    null|    null|    null|    null|    null|    null|    null|    null|    null|    null|    null|    null|    null|    null|    null|    null|    null|    null|    null|    null|    null|    null|    null|    null|    null|    null|    null|    null|    null|    null|    null|    null|    null|    null|    null|    null|    null|    null|    null|    null|    null|    null|    null|    null|    null|    null|    null|    null|    null|    null|    null|    null|    null|    null|    null|    null|    null|    null|    null|    null|    null|    null|    null|    null|    null|   null|   null|   null|   null|   null|   null|   null|   null|   null|   null|   null|   null|   null|   null|   null|   null|   null|   null|   null|   null|   null|   null|   null|   null|   null|   null|   null|   null|           null|               null|           null|               null|           null|               null|            null|                null|            null|                null|            null|                null|            null|                null|            null|                null|            null|                null|            null|                null|           null|               null|           null|               null|           null|               null|            null|                null|            null|                null|            null|                null|            null|                null|            null|                null|            null|                null|            null|                null|\n",
      "|        1993_FLORIDA|1993|             FLORIDA|1980569.0|   11370156.0|       947326.0|    5520893.0|    4901937.0|       11425183.0|              5333136.0|                   3557043.0|         852220.0|                 1424334.0|    34793.0|   167140.0|  168509.0|  149054.0|   100646.0|        null|         null|   2040763.0|            null|            null|               null|               null| 5.571522023870484|  5.598485958438094|2040763.0|169039.0|168302.0|170860.0|168509.0|166144.0|163447.0|157906.0|149054.0|164978.0|140271.0|119674.0|100646.0|167140.0|34793.0|       null|       null|    null|    null|    null|    null|    null|    null|    null|    null|    null|    null|    null|    null|    null|    null|    null|    null|    null|    null|    null|    null|    null|    null|    null|    null|    null|    null|    null|    null|    null|    null|    null|    null|    null|    null|    null|    null|    null|    null|    null|    null|    null|    null|    null|    null|    null|    null|    null|    null|    null|    null|    null|    null|    null|    null|    null|    null|    null|    null|    null|    null|    null|    null|    null|    null|    null|    null|    null|    null|    null|    null|    null|    null|    null|    null|    null|    null|    null|    null|    null|    null|    null|    null|    null|    null|    null|    null|    null|    null|    null|    null|    null|    null|    null|    null|    null|    null|    null|    null|    null|    null|    null|    null|    null|    null|    null|    null|    null|    null|    null|    null|    null|    null|    null|    null|    null|    null|    null|    null|    null|    null|    null|    null|    null|    null|    null|    null|    null|    null|    null|    null|    null|    null|    null|    null|    null|    null|    null|    null|    null|    null|    null|    null|    null|    null|    null|    null|    null|    null|    null|    null|    null|    null|    null|    null|    null|    null|    null|    null|    null|    null|    null|    null|    null|    null|    null|    null|    null|    null|   null|   null|   null|   null|   null|   null|   null|   null|   null|   null|   null|   null|   null|   null|   null|   null|   null|   null|   null|   null|   null|   null|   null|   null|   null|   null|   null|   null|           null|               null|           null|               null|           null|               null|            null|                null|            null|                null|            null|                null|            null|                null|            null|                null|            null|                null|            null|                null|           null|               null|           null|               null|           null|               null|            null|                null|            null|                null|            null|                null|            null|                null|            null|                null|            null|                null|            null|                null|\n",
      "|        1993_GEORGIA|1993|             GEORGIA| 893557.0|    4716559.0|       296231.0|    2243580.0|    2176748.0|        4647974.0|              2538712.0|                   1323320.0|         260423.0|                  439808.0|     5534.0|   103365.0|   99802.0|   97354.0|    62704.0|        null|         null|   1235304.0|            null|            null|               null|               null| 3.818136264433694|  3.762615518123474|1235304.0|103346.0|100224.0|100082.0| 99802.0|100493.0|100824.0| 99401.0| 97354.0|107625.0| 82822.0| 71728.0| 62704.0|103365.0| 5534.0|       null|       null|    null|    null|    null|    null|    null|    null|    null|    null|    null|    null|    null|    null|    null|    null|    null|    null|    null|    null|    null|    null|    null|    null|    null|    null|    null|    null|    null|    null|    null|    null|    null|    null|    null|    null|    null|    null|    null|    null|    null|    null|    null|    null|    null|    null|    null|    null|    null|    null|    null|    null|    null|    null|    null|    null|    null|    null|    null|    null|    null|    null|    null|    null|    null|    null|    null|    null|    null|    null|    null|    null|    null|    null|    null|    null|    null|    null|    null|    null|    null|    null|    null|    null|    null|    null|    null|    null|    null|    null|    null|    null|    null|    null|    null|    null|    null|    null|    null|    null|    null|    null|    null|    null|    null|    null|    null|    null|    null|    null|    null|    null|    null|    null|    null|    null|    null|    null|    null|    null|    null|    null|    null|    null|    null|    null|    null|    null|    null|    null|    null|    null|    null|    null|    null|    null|    null|    null|    null|    null|    null|    null|    null|    null|    null|    null|    null|    null|    null|    null|    null|    null|    null|    null|    null|    null|    null|    null|    null|    null|    null|    null|    null|    null|    null|    null|    null|    null|    null|    null|   null|   null|   null|   null|   null|   null|   null|   null|   null|   null|   null|   null|   null|   null|   null|   null|   null|   null|   null|   null|   null|   null|   null|   null|   null|   null|   null|   null|           null|               null|           null|               null|           null|               null|            null|                null|            null|                null|            null|                null|            null|                null|            null|                null|            null|                null|            null|                null|           null|               null|           null|               null|           null|               null|            null|                null|            null|                null|            null|                null|            null|                null|            null|                null|            null|                null|            null|                null|\n",
      "|         1993_HAWAII|1993|              HAWAII| 177448.0|    1062475.0|        76183.0|     962375.0|      23917.0|        1063090.0|               580597.0|                    304362.0|          95700.0|                   82431.0|      532.0|    15199.0|   14813.0|   13245.0|    10201.0|        null|         null|    180410.0|            null|            null|               null|               null|5.8892245440940085|  5.892633446039577| 180410.0| 15158.0| 15038.0| 14713.0| 14813.0| 14770.0| 14507.0| 13608.0| 13245.0| 14219.0| 12351.0| 11957.0| 10201.0| 15199.0|  532.0|       null|       null|    null|    null|    null|    null|    null|    null|    null|    null|    null|    null|    null|    null|    null|    null|    null|    null|    null|    null|    null|    null|    null|    null|    null|    null|    null|    null|    null|    null|    null|    null|    null|    null|    null|    null|    null|    null|    null|    null|    null|    null|    null|    null|    null|    null|    null|    null|    null|    null|    null|    null|    null|    null|    null|    null|    null|    null|    null|    null|    null|    null|    null|    null|    null|    null|    null|    null|    null|    null|    null|    null|    null|    null|    null|    null|    null|    null|    null|    null|    null|    null|    null|    null|    null|    null|    null|    null|    null|    null|    null|    null|    null|    null|    null|    null|    null|    null|    null|    null|    null|    null|    null|    null|    null|    null|    null|    null|    null|    null|    null|    null|    null|    null|    null|    null|    null|    null|    null|    null|    null|    null|    null|    null|    null|    null|    null|    null|    null|    null|    null|    null|    null|    null|    null|    null|    null|    null|    null|    null|    null|    null|    null|    null|    null|    null|    null|    null|    null|    null|    null|    null|    null|    null|    null|    null|    null|    null|    null|    null|    null|    null|    null|    null|    null|    null|    null|    null|    null|    null|   null|   null|   null|   null|   null|   null|   null|   null|   null|   null|   null|   null|   null|   null|   null|   null|   null|   null|   null|   null|   null|   null|   null|   null|   null|   null|   null|   null|           null|               null|           null|               null|           null|               null|            null|                null|            null|                null|            null|                null|            null|                null|            null|                null|            null|                null|            null|                null|           null|               null|           null|               null|           null|               null|            null|                null|            null|                null|            null|                null|            null|                null|            null|                null|            null|                null|            null|                null|\n",
      "|          1993_IDAHO|1993|               IDAHO| 231632.0|     890835.0|        72747.0|     547454.0|     270634.0|         899819.0|               499914.0|                    260805.0|          41238.0|                   81359.0|     1389.0|    17039.0|   18665.0|   19185.0|    15044.0|        null|         null|    236774.0|            null|            null|               null|               null| 3.762385228107816|  3.800328583374864| 236774.0| 17464.0| 16872.0| 17788.0| 18665.0| 19015.0| 19444.0| 19356.0| 19185.0| 19537.0| 18139.0| 16567.0| 15044.0| 17039.0| 1389.0|       null|       null|    null|    null|    null|    null|    null|    null|    null|    null|    null|    null|    null|    null|    null|    null|    null|    null|    null|    null|    null|    null|    null|    null|    null|    null|    null|    null|    null|    null|    null|    null|    null|    null|    null|    null|    null|    null|    null|    null|    null|    null|    null|    null|    null|    null|    null|    null|    null|    null|    null|    null|    null|    null|    null|    null|    null|    null|    null|    null|    null|    null|    null|    null|    null|    null|    null|    null|    null|    null|    null|    null|    null|    null|    null|    null|    null|    null|    null|    null|    null|    null|    null|    null|    null|    null|    null|    null|    null|    null|    null|    null|    null|    null|    null|    null|    null|    null|    null|    null|    null|    null|    null|    null|    null|    null|    null|    null|    null|    null|    null|    null|    null|    null|    null|    null|    null|    null|    null|    null|    null|    null|    null|    null|    null|    null|    null|    null|    null|    null|    null|    null|    null|    null|    null|    null|    null|    null|    null|    null|    null|    null|    null|    null|    null|    null|    null|    null|    null|    null|    null|    null|    null|    null|    null|    null|    null|    null|    null|    null|    null|    null|    null|    null|    null|    null|    null|    null|    null|    null|   null|   null|   null|   null|   null|   null|   null|   null|   null|   null|   null|   null|   null|   null|   null|   null|   null|   null|   null|   null|   null|   null|   null|   null|   null|   null|   null|   null|           null|               null|           null|               null|           null|               null|            null|                null|            null|                null|            null|                null|            null|                null|            null|                null|            null|                null|            null|                null|           null|               null|           null|               null|           null|               null|            null|                null|            null|                null|            null|                null|            null|                null|            null|                null|            null|                null|            null|                null|\n",
      "|       1993_ILLINOIS|1993|            ILLINOIS|1856841.0|   10584624.0|       632724.0|    3467071.0|    6484829.0|       10744695.0|              5520683.0|                   3352722.0|         426411.0|                  852085.0|    42359.0|   144758.0|  138827.0|  138518.0|   106519.0|        null|         null|   1893078.0|            null|            null|               null|               null| 5.591224450339606|  5.675780395736467|1893078.0|147148.0|143397.0|143349.0|138827.0|132833.0|134201.0|136363.0|138518.0|143950.0|131770.0|120785.0|106519.0|144758.0|42359.0|       null|       null|    null|    null|    null|    null|    null|    null|    null|    null|    null|    null|    null|    null|    null|    null|    null|    null|    null|    null|    null|    null|    null|    null|    null|    null|    null|    null|    null|    null|    null|    null|    null|    null|    null|    null|    null|    null|    null|    null|    null|    null|    null|    null|    null|    null|    null|    null|    null|    null|    null|    null|    null|    null|    null|    null|    null|    null|    null|    null|    null|    null|    null|    null|    null|    null|    null|    null|    null|    null|    null|    null|    null|    null|    null|    null|    null|    null|    null|    null|    null|    null|    null|    null|    null|    null|    null|    null|    null|    null|    null|    null|    null|    null|    null|    null|    null|    null|    null|    null|    null|    null|    null|    null|    null|    null|    null|    null|    null|    null|    null|    null|    null|    null|    null|    null|    null|    null|    null|    null|    null|    null|    null|    null|    null|    null|    null|    null|    null|    null|    null|    null|    null|    null|    null|    null|    null|    null|    null|    null|    null|    null|    null|    null|    null|    null|    null|    null|    null|    null|    null|    null|    null|    null|    null|    null|    null|    null|    null|    null|    null|    null|    null|    null|    null|    null|    null|    null|    null|    null|   null|   null|   null|   null|   null|   null|   null|   null|   null|   null|   null|   null|   null|   null|   null|   null|   null|   null|   null|   null|   null|   null|   null|   null|   null|   null|   null|   null|           null|               null|           null|               null|           null|               null|            null|                null|            null|                null|            null|                null|            null|                null|            null|                null|            null|                null|            null|                null|           null|               null|           null|               null|           null|               null|            null|                null|            null|                null|            null|                null|            null|                null|            null|                null|            null|                null|            null|                null|\n",
      "|        1993_INDIANA|1993|             INDIANA| 958052.0|    5833420.0|       278090.0|    3005534.0|    2549796.0|        5668599.0|              2862585.0|                   1619011.0|         268924.0|                  477709.0|     3960.0|    70226.0|   72841.0|   78125.0|    60971.0|        null|         null|    965633.0|            null|            null|               null|               null| 6.041032151966637|  5.870345151833046| 965633.0| 74695.0| 71896.0| 72476.0| 72841.0| 74494.0| 76961.0| 78388.0| 78125.0| 81632.0| 72611.0| 67005.0| 60971.0| 70226.0| 3960.0|       null|       null|    null|    null|    null|    null|    null|    null|    null|    null|    null|    null|    null|    null|    null|    null|    null|    null|    null|    null|    null|    null|    null|    null|    null|    null|    null|    null|    null|    null|    null|    null|    null|    null|    null|    null|    null|    null|    null|    null|    null|    null|    null|    null|    null|    null|    null|    null|    null|    null|    null|    null|    null|    null|    null|    null|    null|    null|    null|    null|    null|    null|    null|    null|    null|    null|    null|    null|    null|    null|    null|    null|    null|    null|    null|    null|    null|    null|    null|    null|    null|    null|    null|    null|    null|    null|    null|    null|    null|    null|    null|    null|    null|    null|    null|    null|    null|    null|    null|    null|    null|    null|    null|    null|    null|    null|    null|    null|    null|    null|    null|    null|    null|    null|    null|    null|    null|    null|    null|    null|    null|    null|    null|    null|    null|    null|    null|    null|    null|    null|    null|    null|    null|    null|    null|    null|    null|    null|    null|    null|    null|    null|    null|    null|    null|    null|    null|    null|    null|    null|    null|    null|    null|    null|    null|    null|    null|    null|    null|    null|    null|    null|    null|    null|    null|    null|    null|    null|    null|    null|   null|   null|   null|   null|   null|   null|   null|   null|   null|   null|   null|   null|   null|   null|   null|   null|   null|   null|   null|   null|   null|   null|   null|   null|   null|   null|   null|   null|           null|               null|           null|               null|           null|               null|            null|                null|            null|                null|            null|                null|            null|                null|            null|                null|            null|                null|            null|                null|           null|               null|           null|               null|           null|               null|            null|                null|            null|                null|            null|                null|            null|                null|            null|                null|            null|                null|            null|                null|\n",
      "|           1993_IOWA|1993|                IOWA| 493957.0|    2880731.0|       131444.0|    1299055.0|    1450232.0|        2889377.0|              1522556.0|                    818922.0|         114390.0|                  196098.0|     5430.0|    36348.0|   36370.0|   38548.0|    32588.0|        null|         null|    498519.0|            null|            null|               null|               null| 5.778578148475785|   5.79592151954088| 498519.0| 35131.0| 36217.0| 36994.0| 36370.0| 37530.0| 37744.0| 38861.0| 38548.0| 38637.0| 36483.0| 34893.0| 32588.0| 36348.0| 5430.0|       null|       null|    null|    null|    null|    null|    null|    null|    null|    null|    null|    null|    null|    null|    null|    null|    null|    null|    null|    null|    null|    null|    null|    null|    null|    null|    null|    null|    null|    null|    null|    null|    null|    null|    null|    null|    null|    null|    null|    null|    null|    null|    null|    null|    null|    null|    null|    null|    null|    null|    null|    null|    null|    null|    null|    null|    null|    null|    null|    null|    null|    null|    null|    null|    null|    null|    null|    null|    null|    null|    null|    null|    null|    null|    null|    null|    null|    null|    null|    null|    null|    null|    null|    null|    null|    null|    null|    null|    null|    null|    null|    null|    null|    null|    null|    null|    null|    null|    null|    null|    null|    null|    null|    null|    null|    null|    null|    null|    null|    null|    null|    null|    null|    null|    null|    null|    null|    null|    null|    null|    null|    null|    null|    null|    null|    null|    null|    null|    null|    null|    null|    null|    null|    null|    null|    null|    null|    null|    null|    null|    null|    null|    null|    null|    null|    null|    null|    null|    null|    null|    null|    null|    null|    null|    null|    null|    null|    null|    null|    null|    null|    null|    null|    null|    null|    null|    null|    null|    null|    null|   null|   null|   null|   null|   null|   null|   null|   null|   null|   null|   null|   null|   null|   null|   null|   null|   null|   null|   null|   null|   null|   null|   null|   null|   null|   null|   null|   null|           null|               null|           null|               null|           null|               null|            null|                null|            null|                null|            null|                null|            null|                null|            null|                null|            null|                null|            null|                null|           null|               null|           null|               null|           null|               null|            null|                null|            null|                null|            null|                null|            null|                null|            null|                null|            null|                null|            null|                null|\n",
      "|         1993_KANSAS|1993|              KANSAS| 451469.0|    2386945.0|       123082.0|    1165178.0|    1098685.0|        2522542.0|              1309958.0|                    802965.0|         142268.0|                  195674.0|     2432.0|    34575.0|   35975.0|   35902.0|    27644.0|        null|         null|    457614.0|            null|            null|               null|               null| 5.216066379088052| 5.5123794289510375| 457614.0| 36063.0| 35896.0| 36393.0| 35975.0| 36525.0| 36672.0| 36913.0| 35902.0| 35955.0| 32721.0| 30761.0| 27644.0| 34575.0| 2432.0|       null|       null|    null|    null|    null|    null|    null|    null|    null|    null|    null|    null|    null|    null|    null|    null|    null|    null|    null|    null|    null|    null|    null|    null|    null|    null|    null|    null|    null|    null|    null|    null|    null|    null|    null|    null|    null|    null|    null|    null|    null|    null|    null|    null|    null|    null|    null|    null|    null|    null|    null|    null|    null|    null|    null|    null|    null|    null|    null|    null|    null|    null|    null|    null|    null|    null|    null|    null|    null|    null|    null|    null|    null|    null|    null|    null|    null|    null|    null|    null|    null|    null|    null|    null|    null|    null|    null|    null|    null|    null|    null|    null|    null|    null|    null|    null|    null|    null|    null|    null|    null|    null|    null|    null|    null|    null|    null|    null|    null|    null|    null|    null|    null|    null|    null|    null|    null|    null|    null|    null|    null|    null|    null|    null|    null|    null|    null|    null|    null|    null|    null|    null|    null|    null|    null|    null|    null|    null|    null|    null|    null|    null|    null|    null|    null|    null|    null|    null|    null|    null|    null|    null|    null|    null|    null|    null|    null|    null|    null|    null|    null|    null|    null|    null|    null|    null|    null|    null|    null|    null|   null|   null|   null|   null|   null|   null|   null|   null|   null|   null|   null|   null|   null|   null|   null|   null|   null|   null|   null|   null|   null|   null|   null|   null|   null|   null|   null|   null|           null|               null|           null|               null|           null|               null|            null|                null|            null|                null|            null|                null|            null|                null|            null|                null|            null|                null|            null|                null|           null|               null|           null|               null|           null|               null|            null|                null|            null|                null|            null|                null|            null|                null|            null|                null|            null|                null|            null|                null|\n",
      "|       1993_KENTUCKY|1993|            KENTUCKY| 489281.0|    2381148.0|       216900.0|    1529326.0|     634922.0|        2283431.0|              1247496.0|                    711873.0|         151526.0|                  127578.0|    15732.0|    43340.0|   48083.0|   51306.0|    37629.0|        null|         null|    655265.0|            null|            null|               null|               null|3.6338702662281674|  3.484744340076152| 655265.0| 46083.0| 46151.0| 57522.0| 48083.0| 49333.0| 49483.0| 51533.0| 51306.0| 54502.0| 48467.0| 43758.0| 37629.0| 43340.0|15732.0|       null|       null|    null|    null|    null|    null|    null|    null|    null|    null|    null|    null|    null|    null|    null|    null|    null|    null|    null|    null|    null|    null|    null|    null|    null|    null|    null|    null|    null|    null|    null|    null|    null|    null|    null|    null|    null|    null|    null|    null|    null|    null|    null|    null|    null|    null|    null|    null|    null|    null|    null|    null|    null|    null|    null|    null|    null|    null|    null|    null|    null|    null|    null|    null|    null|    null|    null|    null|    null|    null|    null|    null|    null|    null|    null|    null|    null|    null|    null|    null|    null|    null|    null|    null|    null|    null|    null|    null|    null|    null|    null|    null|    null|    null|    null|    null|    null|    null|    null|    null|    null|    null|    null|    null|    null|    null|    null|    null|    null|    null|    null|    null|    null|    null|    null|    null|    null|    null|    null|    null|    null|    null|    null|    null|    null|    null|    null|    null|    null|    null|    null|    null|    null|    null|    null|    null|    null|    null|    null|    null|    null|    null|    null|    null|    null|    null|    null|    null|    null|    null|    null|    null|    null|    null|    null|    null|    null|    null|    null|    null|    null|    null|    null|    null|    null|    null|    null|    null|    null|    null|   null|   null|   null|   null|   null|   null|   null|   null|   null|   null|   null|   null|   null|   null|   null|   null|   null|   null|   null|   null|   null|   null|   null|   null|   null|   null|   null|   null|           null|               null|           null|               null|           null|               null|            null|                null|            null|                null|            null|                null|            null|                null|            null|                null|            null|                null|            null|                null|           null|               null|           null|               null|           null|               null|            null|                null|            null|                null|            null|                null|            null|                null|            null|                null|            null|                null|            null|                null|\n",
      "|      1993_LOUISIANA|1993|           LOUISIANA| 795719.0|    3438321.0|       397206.0|    1876967.0|    1164148.0|        3427102.0|              1898515.0|                    997974.0|         262609.0|                  173012.0|    12857.0|    61133.0|   60077.0|   56522.0|    39826.0|        null|         null|    800560.0|            null|            null|               null|               null| 4.294894823623464| 4.2808808833816325| 800560.0| 63742.0| 61535.0| 61709.0| 60077.0| 59614.0| 60283.0| 61553.0| 56522.0| 66376.0| 51405.0| 44676.0| 39826.0| 61133.0|12857.0|       null|       null|    null|    null|    null|    null|    null|    null|    null|    null|    null|    null|    null|    null|    null|    null|    null|    null|    null|    null|    null|    null|    null|    null|    null|    null|    null|    null|    null|    null|    null|    null|    null|    null|    null|    null|    null|    null|    null|    null|    null|    null|    null|    null|    null|    null|    null|    null|    null|    null|    null|    null|    null|    null|    null|    null|    null|    null|    null|    null|    null|    null|    null|    null|    null|    null|    null|    null|    null|    null|    null|    null|    null|    null|    null|    null|    null|    null|    null|    null|    null|    null|    null|    null|    null|    null|    null|    null|    null|    null|    null|    null|    null|    null|    null|    null|    null|    null|    null|    null|    null|    null|    null|    null|    null|    null|    null|    null|    null|    null|    null|    null|    null|    null|    null|    null|    null|    null|    null|    null|    null|    null|    null|    null|    null|    null|    null|    null|    null|    null|    null|    null|    null|    null|    null|    null|    null|    null|    null|    null|    null|    null|    null|    null|    null|    null|    null|    null|    null|    null|    null|    null|    null|    null|    null|    null|    null|    null|    null|    null|    null|    null|    null|    null|    null|    null|    null|    null|    null|    null|   null|   null|   null|   null|   null|   null|   null|   null|   null|   null|   null|   null|   null|   null|   null|   null|   null|   null|   null|   null|   null|   null|   null|   null|   null|   null|   null|   null|           null|               null|           null|               null|           null|               null|            null|                null|            null|                null|            null|                null|            null|                null|            null|                null|            null|                null|            null|                null|           null|               null|           null|               null|           null|               null|            null|                null|            null|                null|            null|                null|            null|                null|            null|                null|            null|                null|            null|                null|\n",
      "|          1993_MAINE|1993|               MAINE| 211511.0|    1368095.0|        77440.0|     652164.0|     638491.0|        1321846.0|               809278.0|                    328664.0|          67864.0|                   55490.0|     1036.0|    17536.0|   17237.0|   15844.0|    13446.0|        null|         null|    216995.0|            null|            null|               null|               null| 6.304730523744786|  6.091596580566373| 216995.0| 16995.0| 17637.0| 17514.0| 17237.0| 17018.0| 16663.0| 16537.0| 15844.0| 16630.0| 15317.0| 14239.0| 13446.0| 17536.0| 1036.0|       null|       null|    null|    null|    null|    null|    null|    null|    null|    null|    null|    null|    null|    null|    null|    null|    null|    null|    null|    null|    null|    null|    null|    null|    null|    null|    null|    null|    null|    null|    null|    null|    null|    null|    null|    null|    null|    null|    null|    null|    null|    null|    null|    null|    null|    null|    null|    null|    null|    null|    null|    null|    null|    null|    null|    null|    null|    null|    null|    null|    null|    null|    null|    null|    null|    null|    null|    null|    null|    null|    null|    null|    null|    null|    null|    null|    null|    null|    null|    null|    null|    null|    null|    null|    null|    null|    null|    null|    null|    null|    null|    null|    null|    null|    null|    null|    null|    null|    null|    null|    null|    null|    null|    null|    null|    null|    null|    null|    null|    null|    null|    null|    null|    null|    null|    null|    null|    null|    null|    null|    null|    null|    null|    null|    null|    null|    null|    null|    null|    null|    null|    null|    null|    null|    null|    null|    null|    null|    null|    null|    null|    null|    null|    null|    null|    null|    null|    null|    null|    null|    null|    null|    null|    null|    null|    null|    null|    null|    null|    null|    null|    null|    null|    null|    null|    null|    null|    null|    null|    null|   null|   null|   null|   null|   null|   null|   null|   null|   null|   null|   null|   null|   null|   null|   null|   null|   null|   null|   null|   null|   null|   null|   null|   null|   null|   null|   null|   null|           null|               null|           null|               null|           null|               null|            null|                null|            null|                null|            null|                null|            null|                null|            null|                null|            null|                null|            null|                null|           null|               null|           null|               null|           null|               null|            null|                null|            null|                null|            null|                null|            null|                null|            null|                null|            null|                null|            null|                null|\n",
      "+--------------------+----+--------------------+---------+-------------+---------------+-------------+-------------+-----------------+-----------------------+----------------------------+-----------------+--------------------------+-----------+-----------+----------+----------+-----------+------------+-------------+------------+----------------+----------------+-------------------+-------------------+------------------+-------------------+---------+--------+--------+--------+--------+--------+--------+--------+--------+--------+--------+--------+--------+--------+-------+-----------+-----------+--------+--------+--------+--------+--------+--------+--------+--------+--------+--------+--------+--------+--------+--------+--------+--------+--------+--------+--------+--------+--------+--------+--------+--------+--------+--------+--------+--------+--------+--------+--------+--------+--------+--------+--------+--------+--------+--------+--------+--------+--------+--------+--------+--------+--------+--------+--------+--------+--------+--------+--------+--------+--------+--------+--------+--------+--------+--------+--------+--------+--------+--------+--------+--------+--------+--------+--------+--------+--------+--------+--------+--------+--------+--------+--------+--------+--------+--------+--------+--------+--------+--------+--------+--------+--------+--------+--------+--------+--------+--------+--------+--------+--------+--------+--------+--------+--------+--------+--------+--------+--------+--------+--------+--------+--------+--------+--------+--------+--------+--------+--------+--------+--------+--------+--------+--------+--------+--------+--------+--------+--------+--------+--------+--------+--------+--------+--------+--------+--------+--------+--------+--------+--------+--------+--------+--------+--------+--------+--------+--------+--------+--------+--------+--------+--------+--------+--------+--------+--------+--------+--------+--------+--------+--------+--------+--------+--------+--------+--------+--------+--------+--------+--------+--------+--------+--------+--------+--------+-------+-------+-------+-------+-------+-------+-------+-------+-------+-------+-------+-------+-------+-------+-------+-------+-------+-------+-------+-------+-------+-------+-------+-------+-------+-------+-------+-------+---------------+-------------------+---------------+-------------------+---------------+-------------------+----------------+--------------------+----------------+--------------------+----------------+--------------------+----------------+--------------------+----------------+--------------------+----------------+--------------------+----------------+--------------------+---------------+-------------------+---------------+-------------------+---------------+-------------------+----------------+--------------------+----------------+--------------------+----------------+--------------------+----------------+--------------------+----------------+--------------------+----------------+--------------------+----------------+--------------------+\n",
      "only showing top 20 rows\n",
      "\n"
     ]
    }
   ],
   "source": [
    "df_all.show()"
   ]
  },
  {
   "cell_type": "code",
   "execution_count": 14,
   "id": "797f6f65",
   "metadata": {
    "scrolled": true
   },
   "outputs": [
    {
     "name": "stdout",
     "output_type": "stream",
     "text": [
      "+--------------------+--------------------+----+---------+-------------+---------------+-------------+-------------+-----------------+-----------------------+----------------------------+-----------------+--------------------------+-----------+-----------+----------+----------+-----------+------------+-------------+------------+----------------+----------------+-------------------+-------------------+------------------+-------------------+\n",
      "|         PRIMARY_KEY|               STATE|YEAR|   ENROLL|TOTAL_REVENUE|FEDERAL_REVENUE|STATE_REVENUE|LOCAL_REVENUE|TOTAL_EXPENDITURE|INSTRUCTION_EXPENDITURE|SUPPORT_SERVICES_EXPENDITURE|OTHER_EXPENDITURE|CAPITAL_OUTLAY_EXPENDITURE|GRADES_PK_G|GRADES_KG_G|GRADES_4_G|GRADES_8_G|GRADES_12_G|GRADES_1_8_G|GRADES_9_12_G|GRADES_ALL_G|AVG_MATH_4_SCORE|AVG_MATH_8_SCORE|AVG_READING_4_SCORE|AVG_READING_8_SCORE|  average_reveneue|average_expenditure|\n",
      "+--------------------+--------------------+----+---------+-------------+---------------+-------------+-------------+-----------------+-----------------------+----------------------------+-----------------+--------------------------+-----------+-----------+----------+----------+-----------+------------+-------------+------------+----------------+----------------+-------------------+-------------------+------------------+-------------------+\n",
      "|        2003_ALABAMA|             ALABAMA|2003| 727900.0|    5196054.0|       567704.0|    2966981.0|    1661369.0|        5298932.0|              2817111.0|                   1521462.0|         424662.0|                  432279.0|     1852.0|    56541.0|   57323.0|   59663.0|    42005.0|    466920.0|     205907.0|    731220.0|           223.0|           262.0|              207.0|              253.0| 7.106006400262575|  7.246700035557014|\n",
      "|         2003_ALASKA|              ALASKA|2003| 133303.0|    1425948.0|       259423.0|     813371.0|     353154.0|        1610289.0|               763525.0|                    514052.0|          55715.0|                  247005.0|     1883.0|     9475.0|   10115.0|   11140.0|     8651.0|     82337.0|      40238.0|    133933.0|           233.0|           279.0|              212.0|              256.0|10.646726348248752| 12.023093636370424|\n",
      "|        2003_ARIZONA|             ARIZONA|2003| 875111.0|    6529894.0|       740579.0|    2912629.0|    2876686.0|        6210287.0|              2810907.0|                   1964229.0|         303924.0|                  864642.0|     9376.0|    76365.0|   76207.0|   76376.0|    68815.0|    613442.0|     307272.0|   1012068.0|           229.0|           271.0|              209.0|              255.0| 6.452030891204939|  6.136234917021386|\n",
      "|       2003_ARKANSAS|            ARKANSAS|2003| 450158.0|    3241275.0|       379947.0|    2394336.0|     466992.0|        3242799.0|              1768713.0|                    972598.0|         170767.0|                  247245.0|     2573.0|    36391.0|   34070.0|   37004.0|    28840.0|    281834.0|     132712.0|    454523.0|           229.0|           266.0|              214.0|              258.0| 7.131157279169591|  7.134510244806093|\n",
      "|     2003_CALIFORNIA|          CALIFORNIA|2003|6226552.0|   59815855.0|      5795655.0|   33617766.0|   20402434.0|       59749885.0|             29561563.0|                  17030335.0|        2995767.0|                 7341541.0|   114939.0|   456941.0|  493415.0|  500143.0|   395194.0|   3929869.0|    1854518.0|   6413867.0|           227.0|           267.0|              206.0|              251.0| 9.326020480312422|  9.315734953655884|\n",
      "|       2003_COLORADO|            COLORADO|2003| 751049.0|    6297242.0|       400219.0|    2715219.0|    3181804.0|        6685029.0|              3168745.0|                   2149761.0|         236480.0|                  821129.0|    19993.0|    55913.0|   56437.0|   58897.0|    48924.0|    460419.0|     221368.0|    757693.0|           235.0|           283.0|              224.0|              268.0| 8.311073218308735|  8.822872852197394|\n",
      "|    2003_CONNECTICUT|         CONNECTICUT|2003| 548466.0|    6959891.0|       351001.0|    2481901.0|    4126989.0|        6751815.0|              3721466.0|                   1951609.0|         252325.0|                  539870.0|    11823.0|    42310.0|   43494.0|   45854.0|    37229.0|    353661.0|     169409.0|    577203.0|           241.0|           284.0|              228.0|              267.0|12.057960544210616|  11.69747038736805|\n",
      "|       2003_DELAWARE|            DELAWARE|2003| 111282.0|    1242436.0|        91986.0|     794472.0|     355978.0|        1317447.0|               673997.0|                    367660.0|          53399.0|                  171247.0|      642.0|     7904.0|    9097.0|   10222.0|     7292.0|     74352.0|      34770.0|    117668.0|           236.0|           277.0|              224.0|              265.0| 10.55882652887786| 11.196306557432777|\n",
      "|2003_DISTRICT_OF_...|DISTRICT_OF_COLUMBIA|2003|  67522.0|    1114061.0|       152599.0|          0.0|     961462.0|        1105963.0|               473414.0|                    406078.0|          32193.0|                  194278.0|     5168.0|     5659.0|    5920.0|    5158.0|     2971.0|     45706.0|      16828.0|     78057.0|           205.0|           243.0|              188.0|              239.0|14.272403500006405|  14.16865880062006|\n",
      "|        2003_FLORIDA|             FLORIDA|2003|2536699.0|   19549835.0|      1956803.0|    8689141.0|    8903891.0|       20180142.0|              9622598.0|                   5938231.0|        1225274.0|                 2924134.0|    49588.0|   191986.0|  178109.0|  205443.0|   144764.0|   1590802.0|     755252.0|   2587628.0|           234.0|           271.0|              218.0|              257.0| 7.555118046334326|  7.798702904745195|\n",
      "|        2003_GEORGIA|             GEORGIA|2003|1495819.0|   13524807.0|      1051973.0|    6551699.0|    5921135.0|       13516783.0|              7352918.0|                   3615906.0|         649880.0|                 1705482.0|    36486.0|   118849.0|  117201.0|  120694.0|    81381.0|    947846.0|     419430.0|   1522611.0|           230.0|           270.0|              214.0|              258.0| 8.882641068532935|  8.877371173595883|\n",
      "|         2003_HAWAII|              HAWAII|2003| 183829.0|    2078877.0|       170377.0|    1873318.0|      35182.0|        1602392.0|               888473.0|                    521929.0|         128941.0|                   63049.0|     1175.0|    13779.0|   14538.0|   14543.0|    10627.0|    115060.0|      53519.0|    183609.0|           227.0|           266.0|              208.0|              251.0|11.322304462199565|  8.727197468533678|\n",
      "|          2003_IDAHO|               IDAHO|2003| 248515.0|    1685984.0|       162530.0|     994022.0|     529432.0|        1726941.0|               924434.0|                    510284.0|          69672.0|                  185850.0|     2672.0|    18590.0|   18710.0|   20091.0|    17462.0|    154162.0|      76696.0|    252120.0|           235.0|           280.0|              218.0|              264.0| 6.687228303982231|  6.849678724416944|\n",
      "|       2003_ILLINOIS|            ILLINOIS|2003|2062664.0|   19627346.0|      1618724.0|    6792637.0|   11215985.0|       21278177.0|             10409933.0|                   6336325.0|         706758.0|                 2727980.0|    67148.0|   146803.0|  160246.0|  160271.0|   136974.0|   1276380.0|     606669.0|   2100961.0|           233.0|           277.0|              216.0|              266.0| 9.342080124285982| 10.127830549924534|\n",
      "|        2003_INDIANA|             INDIANA|2003| 999713.0|    8246076.0|       582940.0|    4569923.0|    3093213.0|        9777720.0|              4785880.0|                   2848989.0|         377679.0|                  859389.0|     5561.0|    72315.0|   77484.0|   81494.0|    63632.0|    638041.0|     293532.0|   1011130.0|           238.0|           281.0|              220.0|              265.0| 8.155307428322768|  9.670091877404488|\n",
      "|           2003_IOWA|                IOWA|2003| 482210.0|    4374803.0|       304688.0|    1974708.0|    2095407.0|        4517990.0|              2157225.0|                   1208401.0|         284796.0|                  459042.0|     6907.0|    35295.0|   34290.0|   38428.0|    36834.0|    282829.0|     152565.0|    481226.0|           238.0|           284.0|              223.0|              268.0| 9.090953107271844|   9.38849937451426|\n",
      "|         2003_KANSAS|              KANSAS|2003| 470264.0|    4068800.0|       311152.0|    2397661.0|    1359987.0|        3818740.0|              2068389.0|                   1196089.0|         167265.0|                  235653.0|     2446.0|    33677.0|   33799.0|   36602.0|    33819.0|    275938.0|     143559.0|    470490.0|           242.0|           284.0|              220.0|              266.0| 8.648005271100342|  8.116516822886778|\n",
      "|       2003_KENTUCKY|            KENTUCKY|2003| 660782.0|    4872025.0|       503734.0|    2904331.0|    1463960.0|        4700494.0|              2688476.0|                   1473773.0|         282473.0|                  127011.0|    32034.0|    48182.0|   47890.0|   50186.0|    38834.0|    394228.0|     183599.0|    663369.0|           229.0|           274.0|              219.0|              266.0| 7.344366408439345| 7.0857908645113055|\n",
      "|      2003_LOUISIANA|           LOUISIANA|2003| 723252.0|    5478321.0|       739078.0|    2638985.0|    2100258.0|        5515322.0|              3009591.0|                   1645457.0|         337709.0|                  409705.0|    23187.0|    56629.0|   59928.0|   60013.0|    41270.0|    456574.0|     191319.0|    727709.0|           226.0|           266.0|              205.0|              253.0| 7.528175410775461|  7.579021284606896|\n",
      "|          2003_MAINE|               MAINE|2003| 203848.0|    2162605.0|       163516.0|     874208.0|    1124881.0|        2154117.0|              1255095.0|                    569146.0|          79491.0|                  137716.0|     1797.0|    14021.0|   14841.0|   17321.0|    14538.0|    123589.0|      62659.0|    202084.0|           238.0|           282.0|              224.0|              268.0| 10.70151521149621| 10.659512875833812|\n",
      "+--------------------+--------------------+----+---------+-------------+---------------+-------------+-------------+-----------------+-----------------------+----------------------------+-----------------+--------------------------+-----------+-----------+----------+----------+-----------+------------+-------------+------------+----------------+----------------+-------------------+-------------------+------------------+-------------------+\n",
      "only showing top 20 rows\n",
      "\n"
     ]
    }
   ],
   "source": [
    "df = df.dropna()\n",
    "df.dropna().show()"
   ]
  },
  {
   "cell_type": "code",
   "execution_count": 15,
   "id": "d3e98413",
   "metadata": {
    "scrolled": true
   },
   "outputs": [
    {
     "name": "stdout",
     "output_type": "stream",
     "text": [
      "+--------------------+----+-------------+-----------------+-----------+-----------+----------+----------+-----------+------------+-------------+------------+----------------+----------------+-------------------+-------------------+------------------+-------------------+\n",
      "|               STATE|YEAR|TOTAL_REVENUE|TOTAL_EXPENDITURE|GRADES_PK_G|GRADES_KG_G|GRADES_4_G|GRADES_8_G|GRADES_12_G|GRADES_1_8_G|GRADES_9_12_G|GRADES_ALL_G|AVG_MATH_4_SCORE|AVG_MATH_8_SCORE|AVG_READING_4_SCORE|AVG_READING_8_SCORE|  average_reveneue|average_expenditure|\n",
      "+--------------------+----+-------------+-----------------+-----------+-----------+----------+----------+-----------+------------+-------------+------------+----------------+----------------+-------------------+-------------------+------------------+-------------------+\n",
      "|             ALABAMA|2003|    5196054.0|        5298932.0|     1852.0|    56541.0|   57323.0|   59663.0|    42005.0|    466920.0|     205907.0|    731220.0|           223.0|           262.0|              207.0|              253.0| 7.106006400262575|  7.246700035557014|\n",
      "|              ALASKA|2003|    1425948.0|        1610289.0|     1883.0|     9475.0|   10115.0|   11140.0|     8651.0|     82337.0|      40238.0|    133933.0|           233.0|           279.0|              212.0|              256.0|10.646726348248752| 12.023093636370424|\n",
      "|             ARIZONA|2003|    6529894.0|        6210287.0|     9376.0|    76365.0|   76207.0|   76376.0|    68815.0|    613442.0|     307272.0|   1012068.0|           229.0|           271.0|              209.0|              255.0| 6.452030891204939|  6.136234917021386|\n",
      "|            ARKANSAS|2003|    3241275.0|        3242799.0|     2573.0|    36391.0|   34070.0|   37004.0|    28840.0|    281834.0|     132712.0|    454523.0|           229.0|           266.0|              214.0|              258.0| 7.131157279169591|  7.134510244806093|\n",
      "|          CALIFORNIA|2003|   59815855.0|       59749885.0|   114939.0|   456941.0|  493415.0|  500143.0|   395194.0|   3929869.0|    1854518.0|   6413867.0|           227.0|           267.0|              206.0|              251.0| 9.326020480312422|  9.315734953655884|\n",
      "|            COLORADO|2003|    6297242.0|        6685029.0|    19993.0|    55913.0|   56437.0|   58897.0|    48924.0|    460419.0|     221368.0|    757693.0|           235.0|           283.0|              224.0|              268.0| 8.311073218308735|  8.822872852197394|\n",
      "|         CONNECTICUT|2003|    6959891.0|        6751815.0|    11823.0|    42310.0|   43494.0|   45854.0|    37229.0|    353661.0|     169409.0|    577203.0|           241.0|           284.0|              228.0|              267.0|12.057960544210616|  11.69747038736805|\n",
      "|            DELAWARE|2003|    1242436.0|        1317447.0|      642.0|     7904.0|    9097.0|   10222.0|     7292.0|     74352.0|      34770.0|    117668.0|           236.0|           277.0|              224.0|              265.0| 10.55882652887786| 11.196306557432777|\n",
      "|DISTRICT_OF_COLUMBIA|2003|    1114061.0|        1105963.0|     5168.0|     5659.0|    5920.0|    5158.0|     2971.0|     45706.0|      16828.0|     78057.0|           205.0|           243.0|              188.0|              239.0|14.272403500006405|  14.16865880062006|\n",
      "|             FLORIDA|2003|   19549835.0|       20180142.0|    49588.0|   191986.0|  178109.0|  205443.0|   144764.0|   1590802.0|     755252.0|   2587628.0|           234.0|           271.0|              218.0|              257.0| 7.555118046334326|  7.798702904745195|\n",
      "|             GEORGIA|2003|   13524807.0|       13516783.0|    36486.0|   118849.0|  117201.0|  120694.0|    81381.0|    947846.0|     419430.0|   1522611.0|           230.0|           270.0|              214.0|              258.0| 8.882641068532935|  8.877371173595883|\n",
      "|              HAWAII|2003|    2078877.0|        1602392.0|     1175.0|    13779.0|   14538.0|   14543.0|    10627.0|    115060.0|      53519.0|    183609.0|           227.0|           266.0|              208.0|              251.0|11.322304462199565|  8.727197468533678|\n",
      "|               IDAHO|2003|    1685984.0|        1726941.0|     2672.0|    18590.0|   18710.0|   20091.0|    17462.0|    154162.0|      76696.0|    252120.0|           235.0|           280.0|              218.0|              264.0| 6.687228303982231|  6.849678724416944|\n",
      "|            ILLINOIS|2003|   19627346.0|       21278177.0|    67148.0|   146803.0|  160246.0|  160271.0|   136974.0|   1276380.0|     606669.0|   2100961.0|           233.0|           277.0|              216.0|              266.0| 9.342080124285982| 10.127830549924534|\n",
      "|             INDIANA|2003|    8246076.0|        9777720.0|     5561.0|    72315.0|   77484.0|   81494.0|    63632.0|    638041.0|     293532.0|   1011130.0|           238.0|           281.0|              220.0|              265.0| 8.155307428322768|  9.670091877404488|\n",
      "|                IOWA|2003|    4374803.0|        4517990.0|     6907.0|    35295.0|   34290.0|   38428.0|    36834.0|    282829.0|     152565.0|    481226.0|           238.0|           284.0|              223.0|              268.0| 9.090953107271844|   9.38849937451426|\n",
      "|              KANSAS|2003|    4068800.0|        3818740.0|     2446.0|    33677.0|   33799.0|   36602.0|    33819.0|    275938.0|     143559.0|    470490.0|           242.0|           284.0|              220.0|              266.0| 8.648005271100342|  8.116516822886778|\n",
      "|            KENTUCKY|2003|    4872025.0|        4700494.0|    32034.0|    48182.0|   47890.0|   50186.0|    38834.0|    394228.0|     183599.0|    663369.0|           229.0|           274.0|              219.0|              266.0| 7.344366408439345| 7.0857908645113055|\n",
      "|           LOUISIANA|2003|    5478321.0|        5515322.0|    23187.0|    56629.0|   59928.0|   60013.0|    41270.0|    456574.0|     191319.0|    727709.0|           226.0|           266.0|              205.0|              253.0| 7.528175410775461|  7.579021284606896|\n",
      "|               MAINE|2003|    2162605.0|        2154117.0|     1797.0|    14021.0|   14841.0|   17321.0|    14538.0|    123589.0|      62659.0|    202084.0|           238.0|           282.0|              224.0|              268.0| 10.70151521149621| 10.659512875833812|\n",
      "+--------------------+----+-------------+-----------------+-----------+-----------+----------+----------+-----------+------------+-------------+------------+----------------+----------------+-------------------+-------------------+------------------+-------------------+\n",
      "only showing top 20 rows\n",
      "\n"
     ]
    }
   ],
   "source": [
    "# Cleaning data\n",
    "df.drop(\"PRIMARY_KEY\", \"ENROLL\", \"FEDERAL_REVENUE\", \"STATE_REVENUE\", \"LOCAL_REVENUE\", \"INSTRUCTION_EXPENDITURE\", \"SUPPORT_SERVICES_EXPENDITURE\", \"OTHER_EXPENDITURE\", \"CAPITAL_OUTLAY_EXPENDITURE\", \"SUPPORT_SERVICES_EXPENDITURE\", \"OTHER_EXPENDITURE\", \"CAPITAL_OUTLAY_EXPENDITURE\", \"SUPPORT_SERVICES_EXPENDITURE\", \"OTHER_EXPENDITURE\", \"CAPITAL_OUTLAY_EXPENDITURE\").show()"
   ]
  },
  {
   "cell_type": "code",
   "execution_count": 16,
   "id": "7ebb6e66",
   "metadata": {},
   "outputs": [],
   "source": [
    "# Data Projection\n",
    "from pyspark.sql.functions import log\n",
    "df = df.withColumn('log_of_AVG_MATH_8_SCORE', log('AVG_MATH_8_SCORE'))"
   ]
  },
  {
   "cell_type": "code",
   "execution_count": 17,
   "id": "bfacd1e6",
   "metadata": {},
   "outputs": [
    {
     "name": "stdout",
     "output_type": "stream",
     "text": [
      "+----------------+-----------------------+\n",
      "|AVG_MATH_8_SCORE|log_of_AVG_MATH_8_SCORE|\n",
      "+----------------+-----------------------+\n",
      "|           262.0|      5.568344503761097|\n",
      "|           279.0|      5.631211781821365|\n",
      "|           271.0|      5.602118820879701|\n",
      "|           266.0|      5.583496308781699|\n",
      "|           267.0|       5.58724865840025|\n",
      "|           283.0|      5.645446897643238|\n",
      "|           284.0|      5.648974238161206|\n",
      "|           277.0|     5.6240175061873385|\n",
      "|           243.0|      5.493061443340548|\n",
      "|           271.0|      5.602118820879701|\n",
      "|           270.0|      5.598421958998375|\n",
      "|           266.0|      5.583496308781699|\n",
      "|           280.0|      5.634789603169249|\n",
      "|           277.0|     5.6240175061873385|\n",
      "|           281.0|      5.638354669333745|\n",
      "|           284.0|      5.648974238161206|\n",
      "|           284.0|      5.648974238161206|\n",
      "|           274.0|     5.6131281063880705|\n",
      "|           266.0|      5.583496308781699|\n",
      "|           282.0|      5.641907070938114|\n",
      "+----------------+-----------------------+\n",
      "only showing top 20 rows\n",
      "\n"
     ]
    }
   ],
   "source": [
    "df.select('AVG_MATH_8_SCORE', 'log_of_AVG_MATH_8_SCORE').show()"
   ]
  },
  {
   "cell_type": "code",
   "execution_count": 18,
   "id": "dadac80e",
   "metadata": {},
   "outputs": [
    {
     "data": {
      "text/plain": [
       "pyspark.sql.dataframe.DataFrame"
      ]
     },
     "execution_count": 18,
     "metadata": {},
     "output_type": "execute_result"
    }
   ],
   "source": [
    "# Data Formatting\n",
    "# df_AM8S = spark.createDataFrame(df.select('AVG_MATH_8_SCORE'))\n",
    "type(df.select('AVG_MATH_8_SCORE'))"
   ]
  },
  {
   "cell_type": "code",
   "execution_count": 19,
   "id": "8ebc26d7",
   "metadata": {},
   "outputs": [],
   "source": [
    "# If you're getting an error with numpy, please type 'sudo pip install numpy --user' into the EC2 console.\n",
    "from pyspark.ml.regression import LinearRegression"
   ]
  },
  {
   "cell_type": "code",
   "execution_count": 20,
   "id": "3e7733dc",
   "metadata": {},
   "outputs": [],
   "source": [
    "# Import VectorAssembler and Vectors\n",
    "from pyspark.ml.linalg import Vectors\n",
    "from pyspark.ml.feature import VectorAssembler"
   ]
  },
  {
   "cell_type": "code",
   "execution_count": 21,
   "id": "2533a661",
   "metadata": {},
   "outputs": [],
   "source": [
    "import os\n",
    "import sys\n",
    "\n",
    "os.environ['PYSPARK_PYTHON'] = sys.executable\n",
    "os.environ['PYSPARK_DRIVER_PYTHON'] = sys.executable"
   ]
  },
  {
   "cell_type": "code",
   "execution_count": 22,
   "id": "7a2680d9",
   "metadata": {},
   "outputs": [
    {
     "name": "stdout",
     "output_type": "stream",
     "text": [
      "root\n",
      " |-- PRIMARY_KEY: string (nullable = true)\n",
      " |-- STATE: string (nullable = true)\n",
      " |-- YEAR: integer (nullable = true)\n",
      " |-- ENROLL: double (nullable = true)\n",
      " |-- TOTAL_REVENUE: double (nullable = true)\n",
      " |-- FEDERAL_REVENUE: double (nullable = true)\n",
      " |-- STATE_REVENUE: double (nullable = true)\n",
      " |-- LOCAL_REVENUE: double (nullable = true)\n",
      " |-- TOTAL_EXPENDITURE: double (nullable = true)\n",
      " |-- INSTRUCTION_EXPENDITURE: double (nullable = true)\n",
      " |-- SUPPORT_SERVICES_EXPENDITURE: double (nullable = true)\n",
      " |-- OTHER_EXPENDITURE: double (nullable = true)\n",
      " |-- CAPITAL_OUTLAY_EXPENDITURE: double (nullable = true)\n",
      " |-- GRADES_PK_G: double (nullable = true)\n",
      " |-- GRADES_KG_G: double (nullable = true)\n",
      " |-- GRADES_4_G: double (nullable = true)\n",
      " |-- GRADES_8_G: double (nullable = true)\n",
      " |-- GRADES_12_G: double (nullable = true)\n",
      " |-- GRADES_1_8_G: double (nullable = true)\n",
      " |-- GRADES_9_12_G: double (nullable = true)\n",
      " |-- GRADES_ALL_G: double (nullable = true)\n",
      " |-- AVG_MATH_4_SCORE: double (nullable = true)\n",
      " |-- AVG_MATH_8_SCORE: double (nullable = true)\n",
      " |-- AVG_READING_4_SCORE: double (nullable = true)\n",
      " |-- AVG_READING_8_SCORE: double (nullable = true)\n",
      "\n"
     ]
    }
   ],
   "source": [
    "df = spark.read.options(header=True, inferSchema=True).csv(file)\n",
    "df.printSchema()"
   ]
  },
  {
   "cell_type": "code",
   "execution_count": 23,
   "id": "81fd187f",
   "metadata": {},
   "outputs": [
    {
     "name": "stdout",
     "output_type": "stream",
     "text": [
      "+--------------------+--------------------+----+---------+-------------+---------------+-------------+-------------+-----------------+-----------------------+----------------------------+-----------------+--------------------------+-----------+-----------+----------+----------+-----------+------------+-------------+------------+----------------+----------------+-------------------+-------------------+\n",
      "|         PRIMARY_KEY|               STATE|YEAR|   ENROLL|TOTAL_REVENUE|FEDERAL_REVENUE|STATE_REVENUE|LOCAL_REVENUE|TOTAL_EXPENDITURE|INSTRUCTION_EXPENDITURE|SUPPORT_SERVICES_EXPENDITURE|OTHER_EXPENDITURE|CAPITAL_OUTLAY_EXPENDITURE|GRADES_PK_G|GRADES_KG_G|GRADES_4_G|GRADES_8_G|GRADES_12_G|GRADES_1_8_G|GRADES_9_12_G|GRADES_ALL_G|AVG_MATH_4_SCORE|AVG_MATH_8_SCORE|AVG_READING_4_SCORE|AVG_READING_8_SCORE|\n",
      "+--------------------+--------------------+----+---------+-------------+---------------+-------------+-------------+-----------------+-----------------------+----------------------------+-----------------+--------------------------+-----------+-----------+----------+----------+-----------+------------+-------------+------------+----------------+----------------+-------------------+-------------------+\n",
      "|        2003_ALABAMA|             ALABAMA|2003| 727900.0|    5196054.0|       567704.0|    2966981.0|    1661369.0|        5298932.0|              2817111.0|                   1521462.0|         424662.0|                  432279.0|     1852.0|    56541.0|   57323.0|   59663.0|    42005.0|    466920.0|     205907.0|    731220.0|           223.0|           262.0|              207.0|              253.0|\n",
      "|         2003_ALASKA|              ALASKA|2003| 133303.0|    1425948.0|       259423.0|     813371.0|     353154.0|        1610289.0|               763525.0|                    514052.0|          55715.0|                  247005.0|     1883.0|     9475.0|   10115.0|   11140.0|     8651.0|     82337.0|      40238.0|    133933.0|           233.0|           279.0|              212.0|              256.0|\n",
      "|        2003_ARIZONA|             ARIZONA|2003| 875111.0|    6529894.0|       740579.0|    2912629.0|    2876686.0|        6210287.0|              2810907.0|                   1964229.0|         303924.0|                  864642.0|     9376.0|    76365.0|   76207.0|   76376.0|    68815.0|    613442.0|     307272.0|   1012068.0|           229.0|           271.0|              209.0|              255.0|\n",
      "|       2003_ARKANSAS|            ARKANSAS|2003| 450158.0|    3241275.0|       379947.0|    2394336.0|     466992.0|        3242799.0|              1768713.0|                    972598.0|         170767.0|                  247245.0|     2573.0|    36391.0|   34070.0|   37004.0|    28840.0|    281834.0|     132712.0|    454523.0|           229.0|           266.0|              214.0|              258.0|\n",
      "|     2003_CALIFORNIA|          CALIFORNIA|2003|6226552.0|  5.9815855E7|      5795655.0|  3.3617766E7|  2.0402434E7|      5.9749885E7|            2.9561563E7|                 1.7030335E7|        2995767.0|                 7341541.0|   114939.0|   456941.0|  493415.0|  500143.0|   395194.0|   3929869.0|    1854518.0|   6413867.0|           227.0|           267.0|              206.0|              251.0|\n",
      "|       2003_COLORADO|            COLORADO|2003| 751049.0|    6297242.0|       400219.0|    2715219.0|    3181804.0|        6685029.0|              3168745.0|                   2149761.0|         236480.0|                  821129.0|    19993.0|    55913.0|   56437.0|   58897.0|    48924.0|    460419.0|     221368.0|    757693.0|           235.0|           283.0|              224.0|              268.0|\n",
      "|    2003_CONNECTICUT|         CONNECTICUT|2003| 548466.0|    6959891.0|       351001.0|    2481901.0|    4126989.0|        6751815.0|              3721466.0|                   1951609.0|         252325.0|                  539870.0|    11823.0|    42310.0|   43494.0|   45854.0|    37229.0|    353661.0|     169409.0|    577203.0|           241.0|           284.0|              228.0|              267.0|\n",
      "|       2003_DELAWARE|            DELAWARE|2003| 111282.0|    1242436.0|        91986.0|     794472.0|     355978.0|        1317447.0|               673997.0|                    367660.0|          53399.0|                  171247.0|      642.0|     7904.0|    9097.0|   10222.0|     7292.0|     74352.0|      34770.0|    117668.0|           236.0|           277.0|              224.0|              265.0|\n",
      "|2003_DISTRICT_OF_...|DISTRICT_OF_COLUMBIA|2003|  67522.0|    1114061.0|       152599.0|          0.0|     961462.0|        1105963.0|               473414.0|                    406078.0|          32193.0|                  194278.0|     5168.0|     5659.0|    5920.0|    5158.0|     2971.0|     45706.0|      16828.0|     78057.0|           205.0|           243.0|              188.0|              239.0|\n",
      "|        2003_FLORIDA|             FLORIDA|2003|2536699.0|  1.9549835E7|      1956803.0|    8689141.0|    8903891.0|      2.0180142E7|              9622598.0|                   5938231.0|        1225274.0|                 2924134.0|    49588.0|   191986.0|  178109.0|  205443.0|   144764.0|   1590802.0|     755252.0|   2587628.0|           234.0|           271.0|              218.0|              257.0|\n",
      "|        2003_GEORGIA|             GEORGIA|2003|1495819.0|  1.3524807E7|      1051973.0|    6551699.0|    5921135.0|      1.3516783E7|              7352918.0|                   3615906.0|         649880.0|                 1705482.0|    36486.0|   118849.0|  117201.0|  120694.0|    81381.0|    947846.0|     419430.0|   1522611.0|           230.0|           270.0|              214.0|              258.0|\n",
      "|         2003_HAWAII|              HAWAII|2003| 183829.0|    2078877.0|       170377.0|    1873318.0|      35182.0|        1602392.0|               888473.0|                    521929.0|         128941.0|                   63049.0|     1175.0|    13779.0|   14538.0|   14543.0|    10627.0|    115060.0|      53519.0|    183609.0|           227.0|           266.0|              208.0|              251.0|\n",
      "|          2003_IDAHO|               IDAHO|2003| 248515.0|    1685984.0|       162530.0|     994022.0|     529432.0|        1726941.0|               924434.0|                    510284.0|          69672.0|                  185850.0|     2672.0|    18590.0|   18710.0|   20091.0|    17462.0|    154162.0|      76696.0|    252120.0|           235.0|           280.0|              218.0|              264.0|\n",
      "|       2003_ILLINOIS|            ILLINOIS|2003|2062664.0|  1.9627346E7|      1618724.0|    6792637.0|  1.1215985E7|      2.1278177E7|            1.0409933E7|                   6336325.0|         706758.0|                 2727980.0|    67148.0|   146803.0|  160246.0|  160271.0|   136974.0|   1276380.0|     606669.0|   2100961.0|           233.0|           277.0|              216.0|              266.0|\n",
      "|        2003_INDIANA|             INDIANA|2003| 999713.0|    8246076.0|       582940.0|    4569923.0|    3093213.0|        9777720.0|              4785880.0|                   2848989.0|         377679.0|                  859389.0|     5561.0|    72315.0|   77484.0|   81494.0|    63632.0|    638041.0|     293532.0|   1011130.0|           238.0|           281.0|              220.0|              265.0|\n",
      "|           2003_IOWA|                IOWA|2003| 482210.0|    4374803.0|       304688.0|    1974708.0|    2095407.0|        4517990.0|              2157225.0|                   1208401.0|         284796.0|                  459042.0|     6907.0|    35295.0|   34290.0|   38428.0|    36834.0|    282829.0|     152565.0|    481226.0|           238.0|           284.0|              223.0|              268.0|\n",
      "|         2003_KANSAS|              KANSAS|2003| 470264.0|    4068800.0|       311152.0|    2397661.0|    1359987.0|        3818740.0|              2068389.0|                   1196089.0|         167265.0|                  235653.0|     2446.0|    33677.0|   33799.0|   36602.0|    33819.0|    275938.0|     143559.0|    470490.0|           242.0|           284.0|              220.0|              266.0|\n",
      "|       2003_KENTUCKY|            KENTUCKY|2003| 660782.0|    4872025.0|       503734.0|    2904331.0|    1463960.0|        4700494.0|              2688476.0|                   1473773.0|         282473.0|                  127011.0|    32034.0|    48182.0|   47890.0|   50186.0|    38834.0|    394228.0|     183599.0|    663369.0|           229.0|           274.0|              219.0|              266.0|\n",
      "|      2003_LOUISIANA|           LOUISIANA|2003| 723252.0|    5478321.0|       739078.0|    2638985.0|    2100258.0|        5515322.0|              3009591.0|                   1645457.0|         337709.0|                  409705.0|    23187.0|    56629.0|   59928.0|   60013.0|    41270.0|    456574.0|     191319.0|    727709.0|           226.0|           266.0|              205.0|              253.0|\n",
      "|          2003_MAINE|               MAINE|2003| 203848.0|    2162605.0|       163516.0|     874208.0|    1124881.0|        2154117.0|              1255095.0|                    569146.0|          79491.0|                  137716.0|     1797.0|    14021.0|   14841.0|   17321.0|    14538.0|    123589.0|      62659.0|    202084.0|           238.0|           282.0|              224.0|              268.0|\n",
      "+--------------------+--------------------+----+---------+-------------+---------------+-------------+-------------+-----------------+-----------------------+----------------------------+-----------------+--------------------------+-----------+-----------+----------+----------+-----------+------------+-------------+------------+----------------+----------------+-------------------+-------------------+\n",
      "only showing top 20 rows\n",
      "\n"
     ]
    }
   ],
   "source": [
    "df = df.dropna()\n",
    "df.dropna().show()"
   ]
  },
  {
   "cell_type": "code",
   "execution_count": 24,
   "id": "ee4023b3",
   "metadata": {},
   "outputs": [],
   "source": [
    "# The input columns are the feature column names, and the output column is what you'd like the new column to be named. \n",
    "assembler = VectorAssembler(\n",
    "    inputCols=[\"YEAR\", \"TOTAL_REVENUE\", \"TOTAL_EXPENDITURE\"],\n",
    "    outputCol=\"features\")"
   ]
  },
  {
   "cell_type": "code",
   "execution_count": 25,
   "id": "dfcd6412",
   "metadata": {},
   "outputs": [],
   "source": [
    "# Now that we've created the assembler variable, let's actually transform the data.\n",
    "output = assembler.transform(df)"
   ]
  },
  {
   "cell_type": "code",
   "execution_count": 26,
   "id": "70e8c5a7",
   "metadata": {},
   "outputs": [
    {
     "name": "stdout",
     "output_type": "stream",
     "text": [
      "+--------------------+----------------+\n",
      "|            features|AVG_MATH_8_SCORE|\n",
      "+--------------------+----------------+\n",
      "|[2003.0,5196054.0...|           262.0|\n",
      "|[2003.0,1425948.0...|           279.0|\n",
      "|[2003.0,6529894.0...|           271.0|\n",
      "|[2003.0,3241275.0...|           266.0|\n",
      "|[2003.0,5.9815855...|           267.0|\n",
      "|[2003.0,6297242.0...|           283.0|\n",
      "|[2003.0,6959891.0...|           284.0|\n",
      "|[2003.0,1242436.0...|           277.0|\n",
      "|[2003.0,1114061.0...|           243.0|\n",
      "|[2003.0,1.9549835...|           271.0|\n",
      "|[2003.0,1.3524807...|           270.0|\n",
      "|[2003.0,2078877.0...|           266.0|\n",
      "|[2003.0,1685984.0...|           280.0|\n",
      "|[2003.0,1.9627346...|           277.0|\n",
      "|[2003.0,8246076.0...|           281.0|\n",
      "|[2003.0,4374803.0...|           284.0|\n",
      "|[2003.0,4068800.0...|           284.0|\n",
      "|[2003.0,4872025.0...|           274.0|\n",
      "|[2003.0,5478321.0...|           266.0|\n",
      "|[2003.0,2162605.0...|           282.0|\n",
      "+--------------------+----------------+\n",
      "only showing top 20 rows\n",
      "\n"
     ]
    }
   ],
   "source": [
    "# Let's select two columns (the feature and predictor).\n",
    "# This is now in the appropriate format to be processed by Spark.\n",
    "final_data = output.select(\"features\",'AVG_MATH_8_SCORE')\n",
    "final_data.show()"
   ]
  },
  {
   "cell_type": "code",
   "execution_count": 27,
   "id": "6d60262a",
   "metadata": {},
   "outputs": [],
   "source": [
    "# Let's do a randomised 70/30 split first. \n",
    "train_data,test_data = final_data.randomSplit([0.7,0.3])"
   ]
  },
  {
   "cell_type": "code",
   "execution_count": 28,
   "id": "8e8febec",
   "metadata": {},
   "outputs": [
    {
     "name": "stdout",
     "output_type": "stream",
     "text": [
      "+-------+-----------------+\n",
      "|summary| AVG_MATH_8_SCORE|\n",
      "+-------+-----------------+\n",
      "|  count|              253|\n",
      "|   mean|280.7707509881423|\n",
      "| stddev|8.821128935891362|\n",
      "|    min|            243.0|\n",
      "|    max|            301.0|\n",
      "+-------+-----------------+\n",
      "\n",
      "+-------+------------------+\n",
      "|summary|  AVG_MATH_8_SCORE|\n",
      "+-------+------------------+\n",
      "|  count|               102|\n",
      "|   mean|             281.5|\n",
      "| stddev|7.6401104133849405|\n",
      "|    min|             254.0|\n",
      "|    max|             299.0|\n",
      "+-------+------------------+\n",
      "\n"
     ]
    }
   ],
   "source": [
    "# Let's see our training data.\n",
    "train_data.describe().show()\n",
    "\n",
    "# And our testing data.\n",
    "test_data.describe().show()"
   ]
  },
  {
   "cell_type": "code",
   "execution_count": 29,
   "id": "29705000",
   "metadata": {},
   "outputs": [],
   "source": [
    "# lr = LinearRegression(labelCol='AVG_MATH_8_SCORE')\n",
    "lr = LinearRegression(labelCol='AVG_MATH_8_SCORE')"
   ]
  },
  {
   "cell_type": "code",
   "execution_count": 30,
   "id": "65408f70",
   "metadata": {
    "scrolled": false
   },
   "outputs": [
    {
     "name": "stderr",
     "output_type": "stream",
     "text": [
      "24/05/24 07:49:33 WARN Instrumentation: [570e5ae5] regParam is zero, which might cause numerical instability and overfitting.\n",
      "24/05/24 07:49:33 WARN InstanceBuilder$NativeBLAS: Failed to load implementation from:dev.ludovic.netlib.blas.JNIBLAS\n",
      "24/05/24 07:49:33 WARN InstanceBuilder$NativeBLAS: Failed to load implementation from:dev.ludovic.netlib.blas.ForeignLinkerBLAS\n",
      "24/05/24 07:49:33 WARN InstanceBuilder$NativeLAPACK: Failed to load implementation from:dev.ludovic.netlib.lapack.JNILAPACK\n"
     ]
    }
   ],
   "source": [
    "# Fit the model to the data.\n",
    "lrModel = lr.fit(train_data)"
   ]
  },
  {
   "cell_type": "code",
   "execution_count": 31,
   "id": "7c3b8332",
   "metadata": {},
   "outputs": [
    {
     "name": "stdout",
     "output_type": "stream",
     "text": [
      "Coefficients: [0.6811073254828257,-2.8049698206228626e-07,2.884405932435767e-07] Intercept: -1087.5570059632141\n"
     ]
    }
   ],
   "source": [
    "# Print the coefficients and intercept for linear regression.\n",
    "print(\"Coefficients: {} Intercept: {}\".format(lrModel.coefficients,lrModel.intercept))"
   ]
  },
  {
   "cell_type": "code",
   "execution_count": 32,
   "id": "5231e088",
   "metadata": {},
   "outputs": [],
   "source": [
    "# Let's evaluate the model against the test data.\n",
    "test_results = lrModel.evaluate(test_data)"
   ]
  },
  {
   "cell_type": "code",
   "execution_count": 33,
   "id": "cef0fb80",
   "metadata": {},
   "outputs": [
    {
     "name": "stderr",
     "output_type": "stream",
     "text": [
      "/home/ubuntu/spark-3.2.1-bin-hadoop2.7/python/pyspark/sql/context.py:125: FutureWarning: Deprecated in 3.0.0. Use SparkSession.builder.getOrCreate() instead.\n",
      "  warnings.warn(\n"
     ]
    },
    {
     "name": "stdout",
     "output_type": "stream",
     "text": [
      "+-------------------+\n",
      "|          residuals|\n",
      "+-------------------+\n",
      "|  8.283271939757242|\n",
      "|  9.286780324203164|\n",
      "| 2.2345344172381374|\n",
      "|  9.290450461389582|\n",
      "|  9.255804602938497|\n",
      "|-10.580043153395764|\n",
      "|    5.2716999577774|\n",
      "|-10.727153990681472|\n",
      "| -15.71083832456975|\n",
      "|  6.137156666819465|\n",
      "|-1.1916556741548447|\n",
      "|   4.13382289062406|\n",
      "|  3.956252770861738|\n",
      "|  7.933683321996341|\n",
      "|  8.922192518753945|\n",
      "| 2.9157776275487777|\n",
      "| -6.045742608707997|\n",
      "|  6.918124225366455|\n",
      "|-15.095157037741728|\n",
      "| 3.7309192314266966|\n",
      "+-------------------+\n",
      "only showing top 20 rows\n",
      "\n",
      "RSME: 7.754419481565115\n"
     ]
    }
   ],
   "source": [
    "# Interesting results! This shows the difference between the predicted value and the test data.\n",
    "test_results.residuals.show()\n",
    "\n",
    "# Let's get some evaluation metrics (as discussed in the previous linear regression notebook).\n",
    "print(\"RSME: {}\".format(test_results.rootMeanSquaredError))"
   ]
  },
  {
   "cell_type": "code",
   "execution_count": 35,
   "id": "0a01f308",
   "metadata": {},
   "outputs": [
    {
     "name": "stdout",
     "output_type": "stream",
     "text": [
      "R2: -0.040346737783021114\n"
     ]
    }
   ],
   "source": [
    "# We can also get the R2 value. \n",
    "print(\"R2: {}\".format(test_results.r2))"
   ]
  },
  {
   "cell_type": "code",
   "execution_count": 36,
   "id": "1872cb20",
   "metadata": {},
   "outputs": [
    {
     "name": "stdout",
     "output_type": "stream",
     "text": [
      "+-------+-----------------+\n",
      "|summary| AVG_MATH_8_SCORE|\n",
      "+-------+-----------------+\n",
      "|  count|              355|\n",
      "|   mean|280.9802816901408|\n",
      "| stddev|8.494408591629918|\n",
      "|    min|            243.0|\n",
      "|    max|            301.0|\n",
      "+-------+-----------------+\n",
      "\n"
     ]
    }
   ],
   "source": [
    "final_data.describe().show()"
   ]
  },
  {
   "cell_type": "code",
   "execution_count": 37,
   "id": "5769fe67",
   "metadata": {},
   "outputs": [],
   "source": [
    "# Let's try a randomised 80/20 split first. \n",
    "train_data,test_data = final_data.randomSplit([0.8,0.2])"
   ]
  },
  {
   "cell_type": "code",
   "execution_count": 38,
   "id": "cd872039",
   "metadata": {},
   "outputs": [
    {
     "name": "stderr",
     "output_type": "stream",
     "text": [
      "24/05/24 07:49:59 WARN Instrumentation: [47617997] regParam is zero, which might cause numerical instability and overfitting.\n"
     ]
    }
   ],
   "source": [
    "# lr = LinearRegression(labelCol='AVG_MATH_8_SCORE')\n",
    "lr = LinearRegression(labelCol='AVG_MATH_8_SCORE')\n",
    "# Fit the model to the data.\n",
    "lrModel = lr.fit(train_data)"
   ]
  },
  {
   "cell_type": "code",
   "execution_count": 39,
   "id": "59d94c5f",
   "metadata": {},
   "outputs": [
    {
     "name": "stdout",
     "output_type": "stream",
     "text": [
      "Coefficients: [0.4807990512039623,4.286780619312688e-07,-4.0283069048344604e-07] Intercept: -685.1279014149465\n"
     ]
    }
   ],
   "source": [
    "# Print the coefficients and intercept for linear regression.\n",
    "print(\"Coefficients: {} Intercept: {}\".format(lrModel.coefficients,lrModel.intercept))"
   ]
  },
  {
   "cell_type": "code",
   "execution_count": 40,
   "id": "43199fbe",
   "metadata": {},
   "outputs": [],
   "source": [
    "# Let's evaluate the model against the test data.\n",
    "test_results = lrModel.evaluate(test_data)"
   ]
  },
  {
   "cell_type": "code",
   "execution_count": 41,
   "id": "eec681f6",
   "metadata": {
    "scrolled": true
   },
   "outputs": [
    {
     "name": "stdout",
     "output_type": "stream",
     "text": [
      "+-------------------+\n",
      "|          residuals|\n",
      "+-------------------+\n",
      "|  9.069561874630722|\n",
      "| -0.914495118458376|\n",
      "|  8.045779996188685|\n",
      "| 2.0603223352969735|\n",
      "| -9.891578750138024|\n",
      "| -11.99576267150735|\n",
      "|   6.03200481333613|\n",
      "| -6.047295872317477|\n",
      "|-12.039293206008892|\n",
      "| -9.870999695313913|\n",
      "|  2.587246757716912|\n",
      "| -12.48525550989541|\n",
      "|  7.082414453459933|\n",
      "| 3.2278377036857364|\n",
      "|  -17.0205155825264|\n",
      "| -7.944877087718169|\n",
      "| 3.6312554852826224|\n",
      "| 1.7521057886165181|\n",
      "|  8.118714268346821|\n",
      "|-31.868639413768733|\n",
      "+-------------------+\n",
      "only showing top 20 rows\n",
      "\n",
      "RSME: 8.283019382046124\n"
     ]
    }
   ],
   "source": [
    "# Interesting results! This shows the difference between the predicted value and the test data.\n",
    "test_results.residuals.show()\n",
    "\n",
    "# Let's get some evaluation metrics (as discussed in the previous linear regression notebook).\n",
    "print(\"RSME: {}\".format(test_results.rootMeanSquaredError))"
   ]
  },
  {
   "cell_type": "code",
   "execution_count": 42,
   "id": "88d75712",
   "metadata": {},
   "outputs": [
    {
     "name": "stdout",
     "output_type": "stream",
     "text": [
      "R2: 0.11255133104551951\n"
     ]
    }
   ],
   "source": [
    "# We can also get the R2 value. \n",
    "print(\"R2: {}\".format(test_results.r2))"
   ]
  },
  {
   "cell_type": "code",
   "execution_count": 43,
   "id": "ccb7ed50",
   "metadata": {},
   "outputs": [
    {
     "name": "stdout",
     "output_type": "stream",
     "text": [
      "+-------+-----------------+\n",
      "|summary| AVG_MATH_8_SCORE|\n",
      "+-------+-----------------+\n",
      "|  count|              355|\n",
      "|   mean|280.9802816901408|\n",
      "| stddev|8.494408591629918|\n",
      "|    min|            243.0|\n",
      "|    max|            301.0|\n",
      "+-------+-----------------+\n",
      "\n"
     ]
    }
   ],
   "source": [
    "final_data.describe().show()"
   ]
  },
  {
   "cell_type": "code",
   "execution_count": 14,
   "id": "c1ca56fa",
   "metadata": {},
   "outputs": [],
   "source": [
    "# we will code along with data and test out 3 different tree methods:\n",
    "\n",
    "# A single decision tree\n",
    "# A random forest\n",
    "# A gradient boosted tree classifier\n",
    "\n",
    "# A few things we need to do before Spark can accept the data!\n",
    "# It needs to be in the form of two columns: \"label\" and \"features\".\n",
    "\n",
    "# Let's import the string indexer (similar to the logistic regression exercises).\n",
    "from pyspark.ml.feature import StringIndexer"
   ]
  },
  {
   "cell_type": "code",
   "execution_count": 15,
   "id": "9b3a5bf4",
   "metadata": {},
   "outputs": [
    {
     "name": "stderr",
     "output_type": "stream",
     "text": [
      "                                                                                \r"
     ]
    }
   ],
   "source": [
    "indexer = StringIndexer(inputCol=\"STATE\", outputCol=\"STATE_Index\")\n",
    "output_fixed = indexer.fit(output).transform(output)"
   ]
  },
  {
   "cell_type": "code",
   "execution_count": 16,
   "id": "d9f1f7f7",
   "metadata": {},
   "outputs": [],
   "source": [
    "# Let's select the two columns we want. Features (which contains vectors), and the predictor.\n",
    "final_data = output_fixed.select(\"features\",'STATE_Index')"
   ]
  },
  {
   "cell_type": "code",
   "execution_count": 17,
   "id": "c1b21a3d",
   "metadata": {},
   "outputs": [],
   "source": [
    "# Split the training and testing set.\n",
    "train_data,test_data = final_data.randomSplit([0.7,0.3])"
   ]
  },
  {
   "cell_type": "code",
   "execution_count": 18,
   "id": "8797d0b1",
   "metadata": {},
   "outputs": [],
   "source": [
    "# Let's import the relevant classifiers. \n",
    "from pyspark.ml.classification import DecisionTreeClassifier,GBTClassifier,RandomForestClassifier\n",
    "from pyspark.ml import Pipeline"
   ]
  },
  {
   "cell_type": "code",
   "execution_count": 19,
   "id": "77817c89",
   "metadata": {},
   "outputs": [],
   "source": [
    "# Use defaults to make the comparison \"fair\". This simplifies the comparison process.\n",
    "\n",
    "dtc = DecisionTreeClassifier(labelCol='STATE_Index',featuresCol='features')\n",
    "rfc = RandomForestClassifier(labelCol='STATE_Index',featuresCol='features')\n",
    "# gbt = GBTClassifier(labelCol='STATE_Index',featuresCol='features')"
   ]
  },
  {
   "cell_type": "code",
   "execution_count": 20,
   "id": "0e7c52d5",
   "metadata": {
    "scrolled": false
   },
   "outputs": [],
   "source": [
    "# Train the models.\n",
    "dtc_model = dtc.fit(train_data)\n",
    "rfc_model = rfc.fit(train_data)\n",
    "# gbt_model = gbt.fit(train_data)"
   ]
  },
  {
   "cell_type": "code",
   "execution_count": 21,
   "id": "ab4cef55",
   "metadata": {},
   "outputs": [],
   "source": [
    "# Model Comparison\n",
    "# Let's compare each of these models!\n",
    "dtc_predictions = dtc_model.transform(test_data)\n",
    "rfc_predictions = rfc_model.transform(test_data)\n",
    "# gbt_predictions = gbt_model.transform(test_data)"
   ]
  },
  {
   "cell_type": "code",
   "execution_count": 22,
   "id": "0706285c",
   "metadata": {},
   "outputs": [],
   "source": [
    "# Let's start off with binary classification.\n",
    "from pyspark.ml.evaluation import BinaryClassificationEvaluator\n",
    "\n",
    "# Note that the label column isn't named label, it's named PrivateIndex in this case.\n",
    "my_binary_eval = BinaryClassificationEvaluator(labelCol = 'STATE_Index')"
   ]
  },
  {
   "cell_type": "code",
   "execution_count": 24,
   "id": "35abd779",
   "metadata": {},
   "outputs": [],
   "source": [
    "# Let's import the evaluator.\n",
    "from pyspark.ml.evaluation import MulticlassClassificationEvaluator"
   ]
  },
  {
   "cell_type": "code",
   "execution_count": 27,
   "id": "f18a88b9",
   "metadata": {},
   "outputs": [],
   "source": [
    "# Select (prediction, true label) and compute test error. \n",
    "acc_evaluator = MulticlassClassificationEvaluator(labelCol=\"STATE_Index\", predictionCol=\"prediction\", metricName=\"accuracy\")"
   ]
  },
  {
   "cell_type": "code",
   "execution_count": 28,
   "id": "0ae7977e",
   "metadata": {},
   "outputs": [],
   "source": [
    "dtc_acc = acc_evaluator.evaluate(dtc_predictions)\n",
    "rfc_acc = acc_evaluator.evaluate(rfc_predictions)\n",
    "# gbt_acc = acc_evaluator.evaluate(gbt_predictions)"
   ]
  },
  {
   "cell_type": "code",
   "execution_count": 29,
   "id": "09af827d",
   "metadata": {},
   "outputs": [
    {
     "name": "stdout",
     "output_type": "stream",
     "text": [
      "Here are the results!\n",
      "----------------------------------------\n",
      "A single decision tree has an accuracy of: 9.76%\n",
      "----------------------------------------\n",
      "A random forest ensemble has an accuracy of: 12.20%\n"
     ]
    }
   ],
   "source": [
    "# Let's do something a bit more complex in terms of printing, just so it's formatted nicer. \n",
    "print(\"Here are the results!\")\n",
    "print('-'*40)\n",
    "print('A single decision tree has an accuracy of: {0:2.2f}%'.format(dtc_acc*100))\n",
    "print('-'*40)\n",
    "print('A random forest ensemble has an accuracy of: {0:2.2f}%'.format(rfc_acc*100))\n",
    "# print('-'*40)\n",
    "# print('An ensemble using GBT has an accuracy of: {0:2.2f}%'.format(gbt_acc*100))"
   ]
  },
  {
   "cell_type": "code",
   "execution_count": null,
   "id": "9a06445d",
   "metadata": {},
   "outputs": [],
   "source": []
  }
 ],
 "metadata": {
  "kernelspec": {
   "display_name": "Python 3 (ipykernel)",
   "language": "python",
   "name": "python3"
  },
  "language_info": {
   "codemirror_mode": {
    "name": "ipython",
    "version": 3
   },
   "file_extension": ".py",
   "mimetype": "text/x-python",
   "name": "python",
   "nbconvert_exporter": "python",
   "pygments_lexer": "ipython3",
   "version": "3.10.12"
  }
 },
 "nbformat": 4,
 "nbformat_minor": 5
}
